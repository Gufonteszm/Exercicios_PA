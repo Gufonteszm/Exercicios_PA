{
  "nbformat": 4,
  "nbformat_minor": 0,
  "metadata": {
    "colab": {
      "provenance": [],
      "authorship_tag": "ABX9TyNN1t4KJzTqUtv26mDoIPbX",
      "include_colab_link": true
    },
    "kernelspec": {
      "name": "python3",
      "display_name": "Python 3"
    },
    "language_info": {
      "name": "python"
    }
  },
  "cells": [
    {
      "cell_type": "markdown",
      "metadata": {
        "id": "view-in-github",
        "colab_type": "text"
      },
      "source": [
        "<a href=\"https://colab.research.google.com/github/Gufonteszm/Exercicios_PA/blob/main/uso_de_IF.ipynb\" target=\"_parent\"><img src=\"https://colab.research.google.com/assets/colab-badge.svg\" alt=\"Open In Colab\"/></a>"
      ]
    },
    {
      "cell_type": "markdown",
      "source": [
        "**Exercício 1**"
      ],
      "metadata": {
        "id": "3DmiqE0M55zh"
      }
    },
    {
      "cell_type": "code",
      "source": [
        "##entrada"
      ],
      "metadata": {
        "id": "qLZMWITM589K"
      },
      "execution_count": 13,
      "outputs": []
    },
    {
      "cell_type": "code",
      "source": [
        "usuário = input(\"Digite seu nome de usuário: \")"
      ],
      "metadata": {
        "colab": {
          "base_uri": "https://localhost:8080/"
        },
        "id": "w5R24w5V6GOh",
        "outputId": "7e7142c5-0b82-48d6-9250-83dacfbeb8c8"
      },
      "execution_count": 26,
      "outputs": [
        {
          "name": "stdout",
          "output_type": "stream",
          "text": [
            "Digite seu nome de usuário: Brayan\n"
          ]
        }
      ]
    },
    {
      "cell_type": "code",
      "source": [
        "senha = input(\"Digite sua senha: \")"
      ],
      "metadata": {
        "colab": {
          "base_uri": "https://localhost:8080/"
        },
        "id": "OH2dH7z_6Qru",
        "outputId": "f373fd6f-b8e5-42af-bb3f-5e4d0a09df3f"
      },
      "execution_count": 27,
      "outputs": [
        {
          "name": "stdout",
          "output_type": "stream",
          "text": [
            "Digite sua senha: 12345\n"
          ]
        }
      ]
    },
    {
      "cell_type": "code",
      "source": [
        "##processamento"
      ],
      "metadata": {
        "id": "aJY8weRp6X1T"
      },
      "execution_count": 28,
      "outputs": []
    },
    {
      "cell_type": "code",
      "source": [
        "if usuário == \"Brayan\" and senha == \"54321\":\n",
        "  print(\"Acesso permitido\")\n",
        "else:\n",
        "  print(\"usuário ou senha incorretos. tente novamente\")"
      ],
      "metadata": {
        "colab": {
          "base_uri": "https://localhost:8080/"
        },
        "id": "xcN4nMCJ6aNr",
        "outputId": "fdd87cfb-3b88-4d75-dacb-c13f03f2756a"
      },
      "execution_count": 29,
      "outputs": [
        {
          "output_type": "stream",
          "name": "stdout",
          "text": [
            "usuário ou senha incorretos. tente novamente\n"
          ]
        }
      ]
    },
    {
      "cell_type": "markdown",
      "source": [
        "**Exercício 2**"
      ],
      "metadata": {
        "id": "tQ2NFQnX7z4V"
      }
    },
    {
      "cell_type": "code",
      "source": [
        "##entrada"
      ],
      "metadata": {
        "id": "XNeVbad67czY"
      },
      "execution_count": 98,
      "outputs": []
    },
    {
      "cell_type": "code",
      "source": [
        "usuário = input(\"Digite seu nome de usuário: \")"
      ],
      "metadata": {
        "colab": {
          "base_uri": "https://localhost:8080/"
        },
        "id": "lkXF11cf75AS",
        "outputId": "2dab5d4a-0c83-49b4-ac5b-408501653de6"
      },
      "execution_count": 99,
      "outputs": [
        {
          "name": "stdout",
          "output_type": "stream",
          "text": [
            "Digite seu nome de usuário: cliente\n"
          ]
        }
      ]
    },
    {
      "cell_type": "code",
      "source": [
        "senha = input(\"Digite sua senha: \")"
      ],
      "metadata": {
        "colab": {
          "base_uri": "https://localhost:8080/"
        },
        "id": "91m0kx4MAb68",
        "outputId": "6b6b3227-6cf3-4d7c-eb1d-1a14e48bf0f2"
      },
      "execution_count": 100,
      "outputs": [
        {
          "name": "stdout",
          "output_type": "stream",
          "text": [
            "Digite sua senha: 12345\n"
          ]
        }
      ]
    },
    {
      "cell_type": "code",
      "source": [
        "saldo = float(-50.00)"
      ],
      "metadata": {
        "id": "3q0cn1_GD9oS"
      },
      "execution_count": 101,
      "outputs": []
    },
    {
      "cell_type": "code",
      "source": [
        "##processamento"
      ],
      "metadata": {
        "id": "qx-0ub3WAiHP"
      },
      "execution_count": 102,
      "outputs": []
    },
    {
      "cell_type": "code",
      "source": [
        "if usuário == \"cliente\" and senha == \"12345\":\n",
        "  print(\"Acesso permitido\")\n",
        "else:\n",
        "  print(\"usuário ou senha incorretos. tente novamente\")"
      ],
      "metadata": {
        "colab": {
          "base_uri": "https://localhost:8080/"
        },
        "id": "aeI9rBopAk7R",
        "outputId": "31e89c42-d667-4bd6-d365-3253c2d44b27"
      },
      "execution_count": 103,
      "outputs": [
        {
          "output_type": "stream",
          "name": "stdout",
          "text": [
            "Acesso permitido\n"
          ]
        }
      ]
    },
    {
      "cell_type": "code",
      "source": [
        "if usuário == \"cliente\" and senha == \"12345\":\n",
        "  input(\"digite 1 para sacar, digite 2 para depositar ou digite 3 para ver o valor\")\n",
        "else:\n",
        "  print(\"\")\n",
        "if \"1\":\n",
        "  saque = (input(\"qual valor você quer sacar?: \"))\n",
        "elif saldo < saque:\n",
        "  print(\"saque negado. seu saldo é insuficiente\")\n",
        "else:\n",
        "  print(\"saque realizado com sucesso\")\n",
        "\n"
      ],
      "metadata": {
        "colab": {
          "base_uri": "https://localhost:8080/"
        },
        "id": "Jh5mqIoeArAk",
        "outputId": "383345ea-5d6d-48ea-8ec9-3a59c65f8343"
      },
      "execution_count": 134,
      "outputs": [
        {
          "name": "stdout",
          "output_type": "stream",
          "text": [
            "digite 1 para sacar, digite 2 para depositar ou digite 3 para ver o valor1\n",
            "qual valor você quer sacar?: 20\n"
          ]
        }
      ]
    },
    {
      "cell_type": "markdown",
      "source": [
        "**Exercício 3**"
      ],
      "metadata": {
        "id": "eknocIAKHBNJ"
      }
    },
    {
      "cell_type": "code",
      "source": [
        "##entrada"
      ],
      "metadata": {
        "id": "AE0WqvXTHDl5"
      },
      "execution_count": 129,
      "outputs": []
    },
    {
      "cell_type": "code",
      "source": [
        "altura = float(input(\"Digite sua altura em metros: \"))\n",
        "idade = int(input(\"Digite sua idade: \"))"
      ],
      "metadata": {
        "colab": {
          "base_uri": "https://localhost:8080/"
        },
        "id": "7WAdQ-DtHNu2",
        "outputId": "e831368d-5bc5-40e3-f685-5aa862c85a9c"
      },
      "execution_count": 130,
      "outputs": [
        {
          "name": "stdout",
          "output_type": "stream",
          "text": [
            "Digite sua altura em metros: 1.70\n",
            "Digite sua idade: 18\n"
          ]
        }
      ]
    },
    {
      "cell_type": "code",
      "source": [
        "##processamento"
      ],
      "metadata": {
        "id": "XgAHhzIxHWcE"
      },
      "execution_count": 131,
      "outputs": []
    },
    {
      "cell_type": "code",
      "source": [
        "if altura >= 1.75 and idade >= 18:\n",
        "  print(\"pode competir no campeonato de vôlei\")\n",
        "else:\n",
        "  print(\"não pode competir no campeonato de vôlei\")"
      ],
      "metadata": {
        "colab": {
          "base_uri": "https://localhost:8080/"
        },
        "id": "30uw76GQHYx0",
        "outputId": "e5a4caa5-2586-46eb-b803-c137cb687a5c"
      },
      "execution_count": 132,
      "outputs": [
        {
          "output_type": "stream",
          "name": "stdout",
          "text": [
            "não pode competir no campeonato de vôlei\n"
          ]
        }
      ]
    },
    {
      "cell_type": "markdown",
      "source": [
        "**Exercício 5**"
      ],
      "metadata": {
        "id": "9cTopIoKHpXP"
      }
    },
    {
      "cell_type": "code",
      "source": [
        "##entrada"
      ],
      "metadata": {
        "id": "JX-pPVRCHr0X"
      },
      "execution_count": 133,
      "outputs": []
    },
    {
      "cell_type": "code",
      "source": [
        "peso  = float(input(\"Digite seu peso em kg: \"))"
      ],
      "metadata": {
        "colab": {
          "base_uri": "https://localhost:8080/"
        },
        "id": "1RhuVtCjHtSQ",
        "outputId": "e78831f4-4c5f-4fa2-baef-23ec37195087"
      },
      "execution_count": 139,
      "outputs": [
        {
          "name": "stdout",
          "output_type": "stream",
          "text": [
            "Digite seu peso em kg: 40\n"
          ]
        }
      ]
    },
    {
      "cell_type": "code",
      "source": [
        "##processamento"
      ],
      "metadata": {
        "id": "WAEkTd8AIVnw"
      },
      "execution_count": 140,
      "outputs": []
    },
    {
      "cell_type": "code",
      "source": [
        "if peso >= 46.27 and peso <= 47.63:\n",
        "  print(\"peso plaha ligeiro\")\n",
        "\n",
        "if peso >= 47.63 and peso <= 48.99:\n",
        "  print(\"peso palha\")\n",
        "\n",
        "if peso >= 48.99 and peso <= 50.35:\n",
        "  print(\"peso mosca ligeiro\")\n",
        "\n",
        "if peso >= 50.35 and peso <= 51.71:\n",
        "  print(\"peso mosca\")\n",
        "\n",
        "if peso >= 51.71 and peso <= 53.52:\n",
        "  print(\"peso super mosca\")\n",
        "\n",
        "if peso >= 53.52 and peso <= 55.34:\n",
        "  print(\"peso galo\")\n",
        "\n",
        "if peso >= 55.34 and peso <= 57.15:\n",
        "  print(\"peso super galo\")\n",
        "\n",
        "if peso >= 57.15 and peso <= 58.97:\n",
        "  print(\"peso pena\")\n",
        "\n",
        "if peso >= 58.97 and peso <= 61.23:\n",
        "  print(\"peso super pena\")\n",
        "\n",
        "if peso >= 61.23 and peso <= 63.50:\n",
        "  print(\"peso leve\")\n",
        "\n",
        "if peso >= 63.50 and peso <= 66.68:\n",
        "  print(\"peso super leve\")\n",
        "\n",
        "if peso >= 66.68 and peso <= 69.85:\n",
        "  print(\"peso meio médio\")\n",
        "\n",
        "if peso >= 69.85 and peso <= 73.03:\n",
        "  print(\"peso super meio-médio\")\n",
        "\n",
        "if peso >= 73.03 and peso <= 76.20:\n",
        "  print(\"peso médio\")\n",
        "\n",
        "if peso >= 76.20 and peso <= 79.38:\n",
        "  print(\"peso super médio\")\n",
        "\n",
        "if peso >= 79.38 and peso <= 90.72:\n",
        "  print(\"peso meio-pesado\")\n",
        "\n",
        "if peso >= 90.72:\n",
        "  print(\"peso cruzador\")\n",
        "\n",
        "if peso > 90.72:\n",
        "  print(\"peso pesado\")"
      ],
      "metadata": {
        "colab": {
          "base_uri": "https://localhost:8080/"
        },
        "id": "EirFwjriIX3p",
        "outputId": "495ba8f2-935c-42b4-8ad8-328be795c3c9"
      },
      "execution_count": 141,
      "outputs": [
        {
          "output_type": "stream",
          "name": "stdout",
          "text": [
            "peso pesado\n"
          ]
        }
      ]
    }
  ]
}