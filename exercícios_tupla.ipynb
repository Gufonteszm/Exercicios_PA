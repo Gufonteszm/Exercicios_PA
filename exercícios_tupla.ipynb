{
  "nbformat": 4,
  "nbformat_minor": 0,
  "metadata": {
    "colab": {
      "provenance": [],
      "authorship_tag": "ABX9TyMQc2fXAVQ2DNyXQeYXjQnh",
      "include_colab_link": true
    },
    "kernelspec": {
      "name": "python3",
      "display_name": "Python 3"
    },
    "language_info": {
      "name": "python"
    }
  },
  "cells": [
    {
      "cell_type": "markdown",
      "metadata": {
        "id": "view-in-github",
        "colab_type": "text"
      },
      "source": [
        "<a href=\"https://colab.research.google.com/github/Gufonteszm/Exercicios_PA/blob/main/exerc%C3%ADcios_tupla.ipynb\" target=\"_parent\"><img src=\"https://colab.research.google.com/assets/colab-badge.svg\" alt=\"Open In Colab\"/></a>"
      ]
    },
    {
      "cell_type": "code",
      "execution_count": null,
      "metadata": {
        "id": "6uX4KvSc6zaq"
      },
      "outputs": [],
      "source": [
        "frutas = [\"maçã\", \"banana\", \"laranja\"]"
      ]
    },
    {
      "cell_type": "code",
      "source": [
        "print (frutas)"
      ],
      "metadata": {
        "colab": {
          "base_uri": "https://localhost:8080/"
        },
        "id": "9PdHQ5VmSKj8",
        "outputId": "c2e8dce8-a6f0-4a0e-d052-ac56d81a1fbe"
      },
      "execution_count": null,
      "outputs": [
        {
          "output_type": "stream",
          "name": "stdout",
          "text": [
            "['maçã', 'banana', 'laranja']\n"
          ]
        }
      ]
    },
    {
      "cell_type": "code",
      "source": [
        "frutas.append (\"uva\")"
      ],
      "metadata": {
        "id": "X-SGznBaSPVN"
      },
      "execution_count": null,
      "outputs": []
    },
    {
      "cell_type": "code",
      "source": [
        "print (frutas)"
      ],
      "metadata": {
        "colab": {
          "base_uri": "https://localhost:8080/"
        },
        "id": "T6kiFRtdSVrJ",
        "outputId": "dd294d09-dead-4cd9-e220-2940bab9721c"
      },
      "execution_count": null,
      "outputs": [
        {
          "output_type": "stream",
          "name": "stdout",
          "text": [
            "['maçã', 'banana', 'laranja', 'uva']\n"
          ]
        }
      ]
    },
    {
      "cell_type": "code",
      "source": [
        "print (frutas[2])"
      ],
      "metadata": {
        "colab": {
          "base_uri": "https://localhost:8080/"
        },
        "id": "FM_4l53ISXq5",
        "outputId": "43d63415-5c2b-442f-926c-ffb86995c6ab"
      },
      "execution_count": null,
      "outputs": [
        {
          "output_type": "stream",
          "name": "stdout",
          "text": [
            "laranja\n"
          ]
        }
      ]
    },
    {
      "cell_type": "code",
      "source": [
        "frutas.remove (\"maçã\")"
      ],
      "metadata": {
        "id": "bA_qrPjfSgdY"
      },
      "execution_count": null,
      "outputs": []
    },
    {
      "cell_type": "code",
      "source": [
        "print (frutas)"
      ],
      "metadata": {
        "colab": {
          "base_uri": "https://localhost:8080/"
        },
        "id": "REgtvD9XSjsw",
        "outputId": "6d364c1c-1acc-4e06-8993-39f40ebe2568"
      },
      "execution_count": null,
      "outputs": [
        {
          "output_type": "stream",
          "name": "stdout",
          "text": [
            "['banana', 'laranja', 'uva']\n"
          ]
        }
      ]
    },
    {
      "cell_type": "code",
      "source": [
        "print (frutas[1])"
      ],
      "metadata": {
        "colab": {
          "base_uri": "https://localhost:8080/"
        },
        "id": "_VeZGKidSmmy",
        "outputId": "da69ab17-9e66-4f45-d22d-0399b8dd6ae7"
      },
      "execution_count": null,
      "outputs": [
        {
          "output_type": "stream",
          "name": "stdout",
          "text": [
            "laranja\n"
          ]
        }
      ]
    },
    {
      "cell_type": "code",
      "source": [
        "frutas.pop (0)"
      ],
      "metadata": {
        "colab": {
          "base_uri": "https://localhost:8080/",
          "height": 35
        },
        "id": "St-TLk_PSz7q",
        "outputId": "8ffdeaba-c5dd-4341-b1c1-271ae1a63ccc"
      },
      "execution_count": null,
      "outputs": [
        {
          "output_type": "execute_result",
          "data": {
            "text/plain": [
              "'banana'"
            ],
            "application/vnd.google.colaboratory.intrinsic+json": {
              "type": "string"
            }
          },
          "metadata": {},
          "execution_count": 12
        }
      ]
    },
    {
      "cell_type": "code",
      "source": [
        "print (frutas)"
      ],
      "metadata": {
        "colab": {
          "base_uri": "https://localhost:8080/"
        },
        "id": "uH8FAAgkT9Kk",
        "outputId": "2670785c-68f6-486d-cca8-1b5e2e45c2b3"
      },
      "execution_count": null,
      "outputs": [
        {
          "output_type": "stream",
          "name": "stdout",
          "text": [
            "['laranja', 'uva']\n"
          ]
        }
      ]
    },
    {
      "cell_type": "code",
      "source": [
        "frutas.append(\"abacate\")"
      ],
      "metadata": {
        "id": "grxurPfUUDhf"
      },
      "execution_count": null,
      "outputs": []
    },
    {
      "cell_type": "code",
      "source": [
        "print (frutas)"
      ],
      "metadata": {
        "colab": {
          "base_uri": "https://localhost:8080/"
        },
        "id": "GxBMgcTAUgIB",
        "outputId": "625494ae-c944-48ea-d628-330bc7e2249f"
      },
      "execution_count": null,
      "outputs": [
        {
          "output_type": "stream",
          "name": "stdout",
          "text": [
            "['laranja', 'uva', 'abacate', 'abacate']\n"
          ]
        }
      ]
    },
    {
      "cell_type": "code",
      "source": [
        "frutas.append ([\"morango\", \"banana\"])"
      ],
      "metadata": {
        "id": "H7eOndJmUjk5"
      },
      "execution_count": null,
      "outputs": []
    },
    {
      "cell_type": "code",
      "source": [
        "print (frutas)"
      ],
      "metadata": {
        "colab": {
          "base_uri": "https://localhost:8080/"
        },
        "id": "JC8ghAX9U0X7",
        "outputId": "f8b67cde-59ba-4567-d55f-332dccd9ef8b"
      },
      "execution_count": null,
      "outputs": [
        {
          "output_type": "stream",
          "name": "stdout",
          "text": [
            "['laranja', 'uva', 'abacate', 'abacate', ['morango', 'banana'], ['morango', 'banana'], ['morango', 'banana'], ['morango', 'banana'], ['morango', 'banana'], ['morango', 'banana'], ['morango', 'banana'], ['morango', 'banana'], ['morango', 'banana'], ['morango', 'banana'], ['morango', 'banana'], ['morango', 'banana'], ['morango', 'banana'], ['morango', 'banana'], ['morango', 'banana'], ['morango', 'banana'], ['morango', 'banana'], ['morango', 'banana'], ['morango', 'banana'], ['morango', 'banana'], ['morango', 'banana'], ['morango', 'banana'], ['morango', 'banana'], ['morango', 'banana'], ['morango', 'banana'], ['morango', 'banana'], ['morango', 'banana'], ['morango', 'banana'], ['morango', 'banana'], ['morango', 'banana'], ['morango', 'banana']]\n"
          ]
        }
      ]
    },
    {
      "cell_type": "markdown",
      "source": [
        "**Exercícios - lista**"
      ],
      "metadata": {
        "id": "5xYl4ImwEptn"
      }
    },
    {
      "cell_type": "code",
      "source": [
        "nomes = [\"miguel\",\" arthur\", \"fernando\", \"rafael\", \"enzo\", \"kenzzo\", \"brayan\"]"
      ],
      "metadata": {
        "id": "6eqLdmeZEr2-"
      },
      "execution_count": 1,
      "outputs": []
    },
    {
      "cell_type": "code",
      "source": [
        "print(nomes)"
      ],
      "metadata": {
        "colab": {
          "base_uri": "https://localhost:8080/"
        },
        "id": "oPrz_DDpFBWQ",
        "outputId": "99c3937d-7923-43d1-a402-dbd1395871c4"
      },
      "execution_count": 3,
      "outputs": [
        {
          "output_type": "stream",
          "name": "stdout",
          "text": [
            "['miguel', ' arthur', 'fernando', 'rafael', 'enzo', 'kenzzo', 'brayan']\n"
          ]
        }
      ]
    },
    {
      "cell_type": "code",
      "source": [
        "nomes.append([\"gustavo\", \"otávio\"])"
      ],
      "metadata": {
        "id": "AkVFhWSsFIa_"
      },
      "execution_count": 4,
      "outputs": []
    },
    {
      "cell_type": "code",
      "source": [
        "print(nomes)"
      ],
      "metadata": {
        "colab": {
          "base_uri": "https://localhost:8080/"
        },
        "id": "t_7aCKvhFTtp",
        "outputId": "bfc5b91e-8c7c-4d27-8c0f-c5a66f9ccde7"
      },
      "execution_count": 5,
      "outputs": [
        {
          "output_type": "stream",
          "name": "stdout",
          "text": [
            "['miguel', ' arthur', 'fernando', 'rafael', 'enzo', 'kenzzo', 'brayan', ['gustavo', 'otávio']]\n"
          ]
        }
      ]
    },
    {
      "cell_type": "code",
      "source": [
        "print(nomes[4])"
      ],
      "metadata": {
        "colab": {
          "base_uri": "https://localhost:8080/"
        },
        "id": "eB6OajNlFW6X",
        "outputId": "50dfb771-7901-49c7-c90e-c9c7e5f9096b"
      },
      "execution_count": 6,
      "outputs": [
        {
          "output_type": "stream",
          "name": "stdout",
          "text": [
            "enzo\n"
          ]
        }
      ]
    },
    {
      "cell_type": "code",
      "source": [
        "nomes.pop(4)"
      ],
      "metadata": {
        "colab": {
          "base_uri": "https://localhost:8080/",
          "height": 35
        },
        "id": "fOccV7M0FfTO",
        "outputId": "af696bf1-5cc8-4aa2-b22e-0e3919273552"
      },
      "execution_count": 7,
      "outputs": [
        {
          "output_type": "execute_result",
          "data": {
            "text/plain": [
              "'enzo'"
            ],
            "application/vnd.google.colaboratory.intrinsic+json": {
              "type": "string"
            }
          },
          "metadata": {},
          "execution_count": 7
        }
      ]
    },
    {
      "cell_type": "code",
      "source": [
        "nomes.remove(\"kenzzo\")"
      ],
      "metadata": {
        "id": "I_6XPtbXFmrX"
      },
      "execution_count": 10,
      "outputs": []
    },
    {
      "cell_type": "code",
      "source": [
        "print(nomes)"
      ],
      "metadata": {
        "colab": {
          "base_uri": "https://localhost:8080/"
        },
        "id": "KsHAJ6C_FxQf",
        "outputId": "2730af7d-0f06-4360-e4ee-3c25a5ad169d"
      },
      "execution_count": 11,
      "outputs": [
        {
          "output_type": "stream",
          "name": "stdout",
          "text": [
            "['miguel', ' arthur', 'fernando', 'rafael', 'brayan', ['gustavo', 'otávio']]\n"
          ]
        }
      ]
    },
    {
      "cell_type": "code",
      "source": [
        "for i in range(7):\n",
        "  print(i)"
      ],
      "metadata": {
        "colab": {
          "base_uri": "https://localhost:8080/"
        },
        "id": "QMRR00rQG-gY",
        "outputId": "c083d519-8031-43a9-a656-ee84399fe1d1"
      },
      "execution_count": 23,
      "outputs": [
        {
          "output_type": "stream",
          "name": "stdout",
          "text": [
            "0\n",
            "1\n",
            "2\n",
            "3\n",
            "4\n",
            "5\n",
            "6\n"
          ]
        }
      ]
    },
    {
      "cell_type": "code",
      "source": [
        "contador = 0"
      ],
      "metadata": {
        "id": "T1G04wGHI-xZ"
      },
      "execution_count": 63,
      "outputs": []
    },
    {
      "cell_type": "code",
      "source": [
        "while contador < 2:\n",
        "  print(contador)\n",
        "  contador += 1"
      ],
      "metadata": {
        "colab": {
          "base_uri": "https://localhost:8080/"
        },
        "id": "4JFRJ9IpJnfn",
        "outputId": "0ef60ebb-3cfc-46cc-804b-22d363c3aa31"
      },
      "execution_count": 64,
      "outputs": [
        {
          "output_type": "stream",
          "name": "stdout",
          "text": [
            "0\n",
            "1\n"
          ]
        }
      ]
    },
    {
      "cell_type": "code",
      "source": [
        "for i in range(2, 10):\n",
        "  print(i)"
      ],
      "metadata": {
        "colab": {
          "base_uri": "https://localhost:8080/"
        },
        "id": "a3UvPd_NLegA",
        "outputId": "7357a629-8f81-4656-823d-faa2710dab4c"
      },
      "execution_count": 65,
      "outputs": [
        {
          "output_type": "stream",
          "name": "stdout",
          "text": [
            "2\n",
            "3\n",
            "4\n",
            "5\n",
            "6\n",
            "7\n",
            "8\n",
            "9\n"
          ]
        }
      ]
    },
    {
      "cell_type": "code",
      "source": [
        "soma = 0\n",
        "for i in range(1, 11):\n",
        " soma += i\n",
        " print(\"soma:\", soma)\n"
      ],
      "metadata": {
        "colab": {
          "base_uri": "https://localhost:8080/"
        },
        "id": "x8UEedgmMaOo",
        "outputId": "134bde2f-1770-4019-c2af-cf39fd0a5e08"
      },
      "execution_count": 73,
      "outputs": [
        {
          "output_type": "stream",
          "name": "stdout",
          "text": [
            "soma: 1\n",
            "soma: 3\n",
            "soma: 6\n",
            "soma: 10\n",
            "soma: 15\n",
            "soma: 21\n",
            "soma: 28\n",
            "soma: 36\n",
            "soma: 45\n",
            "soma: 55\n"
          ]
        }
      ]
    },
    {
      "cell_type": "code",
      "source": [
        "n = int(input(\"Digite um número: \"))\n",
        "for i in range(1, 11):\n",
        "  print(f\"{n} x {i} = {n*i}\")"
      ],
      "metadata": {
        "colab": {
          "base_uri": "https://localhost:8080/"
        },
        "id": "yWZ2m-KNO3Co",
        "outputId": "e9c9005b-81a3-4b01-fb3b-9c06bf06633a"
      },
      "execution_count": 102,
      "outputs": [
        {
          "output_type": "stream",
          "name": "stdout",
          "text": [
            "Digite um número: 2\n",
            "2 x 1 = 2\n",
            "2 x 2 = 4\n",
            "2 x 3 = 6\n",
            "2 x 4 = 8\n",
            "2 x 5 = 10\n",
            "2 x 6 = 12\n",
            "2 x 7 = 14\n",
            "2 x 8 = 16\n",
            "2 x 9 = 18\n",
            "2 x 10 = 20\n"
          ]
        }
      ]
    },
    {
      "cell_type": "code",
      "source": [
        "for i in range(0, 21, 3):\n",
        "  if i % 3 == 0:\n",
        "   print(i)"
      ],
      "metadata": {
        "colab": {
          "base_uri": "https://localhost:8080/"
        },
        "id": "P5FM4skPQfTq",
        "outputId": "7c3d2aa0-8088-4e39-f386-e97057e600f9"
      },
      "execution_count": 101,
      "outputs": [
        {
          "output_type": "stream",
          "name": "stdout",
          "text": [
            "0\n",
            "3\n",
            "6\n",
            "9\n",
            "12\n",
            "15\n",
            "18\n"
          ]
        }
      ]
    },
    {
      "cell_type": "code",
      "source": [
        "for i in range(10, -1, -1):\n",
        "  print(i)"
      ],
      "metadata": {
        "colab": {
          "base_uri": "https://localhost:8080/"
        },
        "id": "HSrWbukaTaAJ",
        "outputId": "b19cd1d5-6005-4b00-942b-2ef7d1bdd29d"
      },
      "execution_count": 103,
      "outputs": [
        {
          "output_type": "stream",
          "name": "stdout",
          "text": [
            "10\n",
            "9\n",
            "8\n",
            "7\n",
            "6\n",
            "5\n",
            "4\n",
            "3\n",
            "2\n",
            "1\n",
            "0\n"
          ]
        }
      ]
    },
    {
      "cell_type": "code",
      "source": [
        "soma = 0\n",
        "num = int(input(\"Digite um número (0 para sair): \"))\n",
        "while num != 0:\n",
        "  soma += num\n",
        "  num = int(input(\"Digite um número (0 para sair): \"))\n",
        "print(\"Soma total1\", soma)"
      ],
      "metadata": {
        "colab": {
          "base_uri": "https://localhost:8080/"
        },
        "id": "MsV2MfkkURpg",
        "outputId": "7c6156f5-32b3-402c-fc03-0d88804d5e0d"
      },
      "execution_count": 107,
      "outputs": [
        {
          "output_type": "stream",
          "name": "stdout",
          "text": [
            "Digite um número (0 para sair): 1\n",
            "Digite um número (0 para sair): 10\n",
            "Digite um número (0 para sair): 100\n",
            "Digite um número (0 para sair): 1000\n",
            "Digite um número (0 para sair): 10000\n",
            "Digite um número (0 para sair): 100000\n",
            "Digite um número (0 para sair): 1000000\n",
            "Digite um número (0 para sair): 00000000\n",
            "Soma total 1111111\n"
          ]
        }
      ]
    },
    {
      "cell_type": "code",
      "source": [
        "num = int(input(\"Digite a senha: \"))\n",
        "tentativas = 0\n",
        "while tentativas == 3:\n",
        "  print(\"tentativas esgotadas\")\n",
        "  break\n",
        "\n",
        "if num != 1234:\n",
        "   print(\"Senha incorreta. Tente novamente.\")\n",
        "   tentativas += 1\n",
        "\n",
        "\n",
        "\n",
        "else:\n",
        "  print(\"Senha correta. acesso permitido!\")\n",
        "\n",
        "\n",
        "\n",
        "\n",
        "\n",
        "\n",
        "\n"
      ],
      "metadata": {
        "colab": {
          "base_uri": "https://localhost:8080/"
        },
        "id": "MTr5LIMDXSjg",
        "outputId": "486aa167-354f-4c95-f55f-2b4f9662ade7"
      },
      "execution_count": 140,
      "outputs": [
        {
          "output_type": "stream",
          "name": "stdout",
          "text": [
            "Digite a senha: 1\n",
            "Senha incorreta. Tente novamente.\n",
            "Digite a senha: 1\n",
            "Senha incorreta. Tente novamente.\n"
          ]
        }
      ]
    },
    {
      "cell_type": "markdown",
      "source": [
        "**Exercícios -  tupla**"
      ],
      "metadata": {
        "id": "xUfK3QZ6GUYv"
      }
    },
    {
      "cell_type": "code",
      "source": [
        "nomes = [\"miguel\",\"arthur\", \"fernando\", \"rafael\", \"enzo\", \"kenzzo\", \"brayan\"]"
      ],
      "metadata": {
        "id": "9V3uYLrmGZXI"
      },
      "execution_count": 12,
      "outputs": []
    },
    {
      "cell_type": "code",
      "source": [
        "print(nomes)"
      ],
      "metadata": {
        "colab": {
          "base_uri": "https://localhost:8080/"
        },
        "id": "pZAJo1tSGef_",
        "outputId": "8bb4d9bd-b5f3-4c91-a6a5-b67958a68e50"
      },
      "execution_count": 13,
      "outputs": [
        {
          "output_type": "stream",
          "name": "stdout",
          "text": [
            "['miguel', 'arthur', 'fernando', 'rafael', 'enzo', 'kenzzo', 'brayan']\n"
          ]
        }
      ]
    },
    {
      "cell_type": "code",
      "source": [
        "nomes.append([\"gustavo\", \"otávio\"])"
      ],
      "metadata": {
        "id": "WbDKC-peGhNA"
      },
      "execution_count": 14,
      "outputs": []
    },
    {
      "cell_type": "code",
      "source": [
        "print(nomes)"
      ],
      "metadata": {
        "colab": {
          "base_uri": "https://localhost:8080/"
        },
        "id": "0Af3vnoXGlZA",
        "outputId": "4f21fddf-adc0-4e4c-c9aa-0257ee5ad41c"
      },
      "execution_count": 15,
      "outputs": [
        {
          "output_type": "stream",
          "name": "stdout",
          "text": [
            "['miguel', 'arthur', 'fernando', 'rafael', 'enzo', 'kenzzo', 'brayan', ['gustavo', 'otávio']]\n"
          ]
        }
      ]
    },
    {
      "cell_type": "code",
      "source": [
        "nomes.remove(\"miguel\")"
      ],
      "metadata": {
        "id": "lxsRmbT-Gonv"
      },
      "execution_count": 16,
      "outputs": []
    },
    {
      "cell_type": "code",
      "source": [
        "nomes"
      ],
      "metadata": {
        "colab": {
          "base_uri": "https://localhost:8080/"
        },
        "id": "o39ev_XBGsvP",
        "outputId": "b97ae984-f70d-4509-d923-37323c906914"
      },
      "execution_count": 17,
      "outputs": [
        {
          "output_type": "execute_result",
          "data": {
            "text/plain": [
              "['arthur',\n",
              " 'fernando',\n",
              " 'rafael',\n",
              " 'enzo',\n",
              " 'kenzzo',\n",
              " 'brayan',\n",
              " ['gustavo', 'otávio']]"
            ]
          },
          "metadata": {},
          "execution_count": 17
        }
      ]
    },
    {
      "cell_type": "code",
      "source": [],
      "metadata": {
        "id": "8MLZmUqrG9eX"
      },
      "execution_count": null,
      "outputs": []
    }
  ]
}