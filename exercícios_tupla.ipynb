{
  "nbformat": 4,
  "nbformat_minor": 0,
  "metadata": {
    "colab": {
      "provenance": [],
      "authorship_tag": "ABX9TyM2lSyyEhJHcAJTfjSOADWD",
      "include_colab_link": true
    },
    "kernelspec": {
      "name": "python3",
      "display_name": "Python 3"
    },
    "language_info": {
      "name": "python"
    }
  },
  "cells": [
    {
      "cell_type": "markdown",
      "metadata": {
        "id": "view-in-github",
        "colab_type": "text"
      },
      "source": [
        "<a href=\"https://colab.research.google.com/github/Gufonteszm/Exercicios_PA/blob/main/exerc%C3%ADcios_tupla.ipynb\" target=\"_parent\"><img src=\"https://colab.research.google.com/assets/colab-badge.svg\" alt=\"Open In Colab\"/></a>"
      ]
    },
    {
      "cell_type": "code",
      "execution_count": 1,
      "metadata": {
        "id": "6uX4KvSc6zaq"
      },
      "outputs": [],
      "source": [
        "frutas = [\"maçã\", \"banana\", \"laranja\"]"
      ]
    },
    {
      "cell_type": "code",
      "source": [
        "print (frutas)"
      ],
      "metadata": {
        "colab": {
          "base_uri": "https://localhost:8080/"
        },
        "id": "9PdHQ5VmSKj8",
        "outputId": "c2e8dce8-a6f0-4a0e-d052-ac56d81a1fbe"
      },
      "execution_count": 2,
      "outputs": [
        {
          "output_type": "stream",
          "name": "stdout",
          "text": [
            "['maçã', 'banana', 'laranja']\n"
          ]
        }
      ]
    },
    {
      "cell_type": "code",
      "source": [
        "frutas.append (\"uva\")"
      ],
      "metadata": {
        "id": "X-SGznBaSPVN"
      },
      "execution_count": 3,
      "outputs": []
    },
    {
      "cell_type": "code",
      "source": [
        "print (frutas)"
      ],
      "metadata": {
        "colab": {
          "base_uri": "https://localhost:8080/"
        },
        "id": "T6kiFRtdSVrJ",
        "outputId": "dd294d09-dead-4cd9-e220-2940bab9721c"
      },
      "execution_count": 4,
      "outputs": [
        {
          "output_type": "stream",
          "name": "stdout",
          "text": [
            "['maçã', 'banana', 'laranja', 'uva']\n"
          ]
        }
      ]
    },
    {
      "cell_type": "code",
      "source": [
        "print (frutas[2])"
      ],
      "metadata": {
        "colab": {
          "base_uri": "https://localhost:8080/"
        },
        "id": "FM_4l53ISXq5",
        "outputId": "43d63415-5c2b-442f-926c-ffb86995c6ab"
      },
      "execution_count": 7,
      "outputs": [
        {
          "output_type": "stream",
          "name": "stdout",
          "text": [
            "laranja\n"
          ]
        }
      ]
    },
    {
      "cell_type": "code",
      "source": [
        "frutas.remove (\"maçã\")"
      ],
      "metadata": {
        "id": "bA_qrPjfSgdY"
      },
      "execution_count": 8,
      "outputs": []
    },
    {
      "cell_type": "code",
      "source": [
        "print (frutas)"
      ],
      "metadata": {
        "colab": {
          "base_uri": "https://localhost:8080/"
        },
        "id": "REgtvD9XSjsw",
        "outputId": "6d364c1c-1acc-4e06-8993-39f40ebe2568"
      },
      "execution_count": 9,
      "outputs": [
        {
          "output_type": "stream",
          "name": "stdout",
          "text": [
            "['banana', 'laranja', 'uva']\n"
          ]
        }
      ]
    },
    {
      "cell_type": "code",
      "source": [
        "print (frutas[1])"
      ],
      "metadata": {
        "colab": {
          "base_uri": "https://localhost:8080/"
        },
        "id": "_VeZGKidSmmy",
        "outputId": "da69ab17-9e66-4f45-d22d-0399b8dd6ae7"
      },
      "execution_count": 10,
      "outputs": [
        {
          "output_type": "stream",
          "name": "stdout",
          "text": [
            "laranja\n"
          ]
        }
      ]
    },
    {
      "cell_type": "code",
      "source": [
        "frutas.pop (0)"
      ],
      "metadata": {
        "colab": {
          "base_uri": "https://localhost:8080/",
          "height": 35
        },
        "id": "St-TLk_PSz7q",
        "outputId": "8ffdeaba-c5dd-4341-b1c1-271ae1a63ccc"
      },
      "execution_count": 12,
      "outputs": [
        {
          "output_type": "execute_result",
          "data": {
            "text/plain": [
              "'banana'"
            ],
            "application/vnd.google.colaboratory.intrinsic+json": {
              "type": "string"
            }
          },
          "metadata": {},
          "execution_count": 12
        }
      ]
    },
    {
      "cell_type": "code",
      "source": [
        "print (frutas)"
      ],
      "metadata": {
        "colab": {
          "base_uri": "https://localhost:8080/"
        },
        "id": "uH8FAAgkT9Kk",
        "outputId": "2670785c-68f6-486d-cca8-1b5e2e45c2b3"
      },
      "execution_count": 13,
      "outputs": [
        {
          "output_type": "stream",
          "name": "stdout",
          "text": [
            "['laranja', 'uva']\n"
          ]
        }
      ]
    },
    {
      "cell_type": "code",
      "source": [
        "frutas.append(\"abacate\")"
      ],
      "metadata": {
        "id": "grxurPfUUDhf"
      },
      "execution_count": 17,
      "outputs": []
    },
    {
      "cell_type": "code",
      "source": [
        "print (frutas)"
      ],
      "metadata": {
        "colab": {
          "base_uri": "https://localhost:8080/"
        },
        "id": "GxBMgcTAUgIB",
        "outputId": "625494ae-c944-48ea-d628-330bc7e2249f"
      },
      "execution_count": 18,
      "outputs": [
        {
          "output_type": "stream",
          "name": "stdout",
          "text": [
            "['laranja', 'uva', 'abacate', 'abacate']\n"
          ]
        }
      ]
    },
    {
      "cell_type": "code",
      "source": [
        "frutas.append ([\"morango\", \"banana\"])"
      ],
      "metadata": {
        "id": "H7eOndJmUjk5"
      },
      "execution_count": 60,
      "outputs": []
    },
    {
      "cell_type": "code",
      "source": [
        "print (frutas)"
      ],
      "metadata": {
        "colab": {
          "base_uri": "https://localhost:8080/"
        },
        "id": "JC8ghAX9U0X7",
        "outputId": "f8b67cde-59ba-4567-d55f-332dccd9ef8b"
      },
      "execution_count": 61,
      "outputs": [
        {
          "output_type": "stream",
          "name": "stdout",
          "text": [
            "['laranja', 'uva', 'abacate', 'abacate', ['morango', 'banana'], ['morango', 'banana'], ['morango', 'banana'], ['morango', 'banana'], ['morango', 'banana'], ['morango', 'banana'], ['morango', 'banana'], ['morango', 'banana'], ['morango', 'banana'], ['morango', 'banana'], ['morango', 'banana'], ['morango', 'banana'], ['morango', 'banana'], ['morango', 'banana'], ['morango', 'banana'], ['morango', 'banana'], ['morango', 'banana'], ['morango', 'banana'], ['morango', 'banana'], ['morango', 'banana'], ['morango', 'banana'], ['morango', 'banana'], ['morango', 'banana'], ['morango', 'banana'], ['morango', 'banana'], ['morango', 'banana'], ['morango', 'banana'], ['morango', 'banana'], ['morango', 'banana'], ['morango', 'banana'], ['morango', 'banana']]\n"
          ]
        }
      ]
    }
  ]
}