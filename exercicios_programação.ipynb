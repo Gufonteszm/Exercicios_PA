{
  "nbformat": 4,
  "nbformat_minor": 0,
  "metadata": {
    "colab": {
      "provenance": [],
      "authorship_tag": "ABX9TyO7tFSAnvLdpA99j/9zpDpt",
      "include_colab_link": true
    },
    "kernelspec": {
      "name": "python3",
      "display_name": "Python 3"
    },
    "language_info": {
      "name": "python"
    }
  },
  "cells": [
    {
      "cell_type": "markdown",
      "metadata": {
        "id": "view-in-github",
        "colab_type": "text"
      },
      "source": [
        "<a href=\"https://colab.research.google.com/github/Gufonteszm/Exercicios_PA/blob/main/exercicios_programa%C3%A7%C3%A3o.ipynb\" target=\"_parent\"><img src=\"https://colab.research.google.com/assets/colab-badge.svg\" alt=\"Open In Colab\"/></a>"
      ]
    },
    {
      "cell_type": "code",
      "execution_count": null,
      "metadata": {
        "id": "552rNyBwuL8v"
      },
      "outputs": [],
      "source": []
    },
    {
      "cell_type": "markdown",
      "source": [
        "exercicio 1"
      ],
      "metadata": {
        "id": "cvaBL1Q5uNLX"
      }
    },
    {
      "cell_type": "code",
      "source": [
        "##entrada"
      ],
      "metadata": {
        "id": "w0vAl797uPvU"
      },
      "execution_count": null,
      "outputs": []
    },
    {
      "cell_type": "code",
      "source": [
        "valor = float(input(\"digite um valor: \"))"
      ],
      "metadata": {
        "colab": {
          "base_uri": "https://localhost:8080/"
        },
        "id": "DLF0LXNRuUpU",
        "outputId": "a6af506b-9efb-4995-f9d5-e4f7a2badb96"
      },
      "execution_count": null,
      "outputs": [
        {
          "name": "stdout",
          "output_type": "stream",
          "text": [
            "digite um valor: 25000\n"
          ]
        }
      ]
    },
    {
      "cell_type": "code",
      "source": [
        "impostos = (valor * 45/100)"
      ],
      "metadata": {
        "id": "_vwMt-URugL8"
      },
      "execution_count": null,
      "outputs": []
    },
    {
      "cell_type": "code",
      "source": [
        "distribuição = (valor + impostos)*28/100"
      ],
      "metadata": {
        "id": "l_6LrjjQu1Rb"
      },
      "execution_count": null,
      "outputs": []
    },
    {
      "cell_type": "code",
      "source": [
        "##processamento"
      ],
      "metadata": {
        "id": "auz6AWYhwi_Y"
      },
      "execution_count": null,
      "outputs": []
    },
    {
      "cell_type": "code",
      "source": [
        "valor_final = valor + impostos + distribuição"
      ],
      "metadata": {
        "id": "evtw15ICwntP"
      },
      "execution_count": null,
      "outputs": []
    },
    {
      "cell_type": "code",
      "source": [
        "##saida"
      ],
      "metadata": {
        "id": "c66PjjjuwyaP"
      },
      "execution_count": null,
      "outputs": []
    },
    {
      "cell_type": "code",
      "source": [
        "valor_final"
      ],
      "metadata": {
        "colab": {
          "base_uri": "https://localhost:8080/"
        },
        "id": "aF4sLfm3w0k4",
        "outputId": "7264b350-81b2-4280-a4e4-3cc1dbf10165"
      },
      "execution_count": null,
      "outputs": [
        {
          "output_type": "execute_result",
          "data": {
            "text/plain": [
              "46400.0"
            ]
          },
          "metadata": {},
          "execution_count": 17
        }
      ]
    },
    {
      "cell_type": "markdown",
      "source": [
        "exercicio 2"
      ],
      "metadata": {
        "id": "aLLrY9NuxZg_"
      }
    },
    {
      "cell_type": "code",
      "source": [
        "##entrada"
      ],
      "metadata": {
        "id": "knI3VUnTxaw2"
      },
      "execution_count": null,
      "outputs": []
    },
    {
      "cell_type": "code",
      "source": [
        "hora = 3"
      ],
      "metadata": {
        "id": "qLSCub_Ixcnv"
      },
      "execution_count": null,
      "outputs": []
    },
    {
      "cell_type": "code",
      "source": [
        "minutos = 47"
      ],
      "metadata": {
        "id": "G4KtU2tp0RPI"
      },
      "execution_count": null,
      "outputs": []
    },
    {
      "cell_type": "code",
      "source": [
        "##processamento"
      ],
      "metadata": {
        "id": "61sAlE040FAw"
      },
      "execution_count": null,
      "outputs": []
    },
    {
      "cell_type": "code",
      "source": [
        "tempo = (minutos/60) + hora"
      ],
      "metadata": {
        "id": "36CoFTKI0HVI"
      },
      "execution_count": null,
      "outputs": []
    },
    {
      "cell_type": "code",
      "source": [
        "##saida"
      ],
      "metadata": {
        "id": "oixgAGAO0obw"
      },
      "execution_count": null,
      "outputs": []
    },
    {
      "cell_type": "code",
      "source": [
        "tempo"
      ],
      "metadata": {
        "colab": {
          "base_uri": "https://localhost:8080/"
        },
        "id": "8GSyvkk20q7x",
        "outputId": "d48b00da-d688-4f90-c98d-d1dafe4e11bd"
      },
      "execution_count": null,
      "outputs": [
        {
          "output_type": "execute_result",
          "data": {
            "text/plain": [
              "3.783333333333333"
            ]
          },
          "metadata": {},
          "execution_count": 26
        }
      ]
    },
    {
      "cell_type": "markdown",
      "source": [
        "exercicio 3"
      ],
      "metadata": {
        "id": "1IJF4zxF0xIn"
      }
    },
    {
      "cell_type": "code",
      "source": [
        "##entrada"
      ],
      "metadata": {
        "id": "zMLvNIeP2OvV"
      },
      "execution_count": null,
      "outputs": []
    },
    {
      "cell_type": "code",
      "source": [
        "hora = 15"
      ],
      "metadata": {
        "id": "puFFRgSQ2RET"
      },
      "execution_count": null,
      "outputs": []
    },
    {
      "cell_type": "code",
      "source": [
        "minutos = 45"
      ],
      "metadata": {
        "id": "kE1V47Tb2VNU"
      },
      "execution_count": null,
      "outputs": []
    },
    {
      "cell_type": "code",
      "source": [
        "valor_hora = 25"
      ],
      "metadata": {
        "id": "Dqx2sfEb2ZYb"
      },
      "execution_count": null,
      "outputs": []
    },
    {
      "cell_type": "code",
      "source": [
        "##processamento"
      ],
      "metadata": {
        "id": "XW0Ckj8M2i9k"
      },
      "execution_count": null,
      "outputs": []
    },
    {
      "cell_type": "code",
      "source": [
        "tempo = hora + (minutos/60)"
      ],
      "metadata": {
        "id": "q0n3TDcX2lpj"
      },
      "execution_count": null,
      "outputs": []
    },
    {
      "cell_type": "code",
      "source": [
        "salario = tempo * valor_hora"
      ],
      "metadata": {
        "id": "bGVh-Zgf3Bvy"
      },
      "execution_count": null,
      "outputs": []
    },
    {
      "cell_type": "code",
      "source": [
        "hora_extra = (salario * 70/100)"
      ],
      "metadata": {
        "id": "STR5fUkb3z25"
      },
      "execution_count": null,
      "outputs": []
    },
    {
      "cell_type": "code",
      "source": [
        "salario = salario + hora_extra"
      ],
      "metadata": {
        "id": "MO6wCouc367g"
      },
      "execution_count": null,
      "outputs": []
    },
    {
      "cell_type": "code",
      "source": [
        "##saida"
      ],
      "metadata": {
        "id": "M_LcLWe139pA"
      },
      "execution_count": null,
      "outputs": []
    },
    {
      "cell_type": "code",
      "source": [
        "salario"
      ],
      "metadata": {
        "colab": {
          "base_uri": "https://localhost:8080/"
        },
        "id": "mDX_t26x4AP4",
        "outputId": "40959298-8f2a-4479-c3a9-1f9b1f562140"
      },
      "execution_count": null,
      "outputs": [
        {
          "output_type": "execute_result",
          "data": {
            "text/plain": [
              "669.375"
            ]
          },
          "metadata": {},
          "execution_count": 39
        }
      ]
    },
    {
      "cell_type": "markdown",
      "source": [
        "exercício 4"
      ],
      "metadata": {
        "id": "dAjOAW63l7v_"
      }
    },
    {
      "cell_type": "code",
      "source": [
        "##entrada"
      ],
      "metadata": {
        "id": "V6Xcn2LRmCWH"
      },
      "execution_count": 1,
      "outputs": []
    },
    {
      "cell_type": "code",
      "source": [
        "capital = 1500"
      ],
      "metadata": {
        "id": "LZ8DUJsdmFro"
      },
      "execution_count": 2,
      "outputs": []
    },
    {
      "cell_type": "code",
      "source": [
        "taxa = 7/100"
      ],
      "metadata": {
        "id": "cbUr9-IWmh12"
      },
      "execution_count": 3,
      "outputs": []
    },
    {
      "cell_type": "code",
      "source": [
        "tempo = 6"
      ],
      "metadata": {
        "id": "bWhk4Gl4mumY"
      },
      "execution_count": 4,
      "outputs": []
    },
    {
      "cell_type": "code",
      "source": [
        "##processamento"
      ],
      "metadata": {
        "id": "v0OO34xVm0Tl"
      },
      "execution_count": 5,
      "outputs": []
    },
    {
      "cell_type": "code",
      "source": [
        "montante = capital * (1 + taxa)**tempo"
      ],
      "metadata": {
        "id": "or_6OIgMm4b1"
      },
      "execution_count": 6,
      "outputs": []
    },
    {
      "cell_type": "code",
      "source": [
        "##saida"
      ],
      "metadata": {
        "id": "SCnamPS0nDA1"
      },
      "execution_count": 7,
      "outputs": []
    },
    {
      "cell_type": "code",
      "source": [
        "montante"
      ],
      "metadata": {
        "colab": {
          "base_uri": "https://localhost:8080/"
        },
        "id": "BAfh0zCmnE1F",
        "outputId": "b8bd5b43-8e35-410f-f3ad-6efd51cb14f1"
      },
      "execution_count": 8,
      "outputs": [
        {
          "output_type": "execute_result",
          "data": {
            "text/plain": [
              "2251.0955277735006"
            ]
          },
          "metadata": {},
          "execution_count": 8
        }
      ]
    }
  ]
}