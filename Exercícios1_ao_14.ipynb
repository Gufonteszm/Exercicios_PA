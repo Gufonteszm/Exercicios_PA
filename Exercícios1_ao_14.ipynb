{
  "nbformat": 4,
  "nbformat_minor": 0,
  "metadata": {
    "colab": {
      "provenance": [],
      "authorship_tag": "ABX9TyM2BHSwTpSXeghAhsk0zGrg",
      "include_colab_link": true
    },
    "kernelspec": {
      "name": "python3",
      "display_name": "Python 3"
    },
    "language_info": {
      "name": "python"
    }
  },
  "cells": [
    {
      "cell_type": "markdown",
      "metadata": {
        "id": "view-in-github",
        "colab_type": "text"
      },
      "source": [
        "<a href=\"https://colab.research.google.com/github/Gufonteszm/Exercicios_PA/blob/main/Exerc%C3%ADcios1_ao_14.ipynb\" target=\"_parent\"><img src=\"https://colab.research.google.com/assets/colab-badge.svg\" alt=\"Open In Colab\"/></a>"
      ]
    },
    {
      "cell_type": "markdown",
      "source": [
        "**Aula Fi - 11/08/2025**"
      ],
      "metadata": {
        "id": "o0FV0rHhWPbI"
      }
    },
    {
      "cell_type": "markdown",
      "source": [
        "Exercício 1"
      ],
      "metadata": {
        "id": "VeoiEFMxWZVl"
      }
    },
    {
      "cell_type": "code",
      "source": [
        "nome = str(\"Gustavo Fontes\")\n",
        "turma = str(\"Manhã\")"
      ],
      "metadata": {
        "id": "MADvVPvfWXgE"
      },
      "execution_count": 20,
      "outputs": []
    },
    {
      "cell_type": "markdown",
      "source": [
        "Exercício 2"
      ],
      "metadata": {
        "id": "3lTiFZLSZBjo"
      }
    },
    {
      "cell_type": "code",
      "source": [
        "print(nome[8:])"
      ],
      "metadata": {
        "colab": {
          "base_uri": "https://localhost:8080/"
        },
        "id": "Opmo_siVXWew",
        "outputId": "975ed492-c22c-41ef-b45d-edc869c831ac"
      },
      "execution_count": 22,
      "outputs": [
        {
          "output_type": "stream",
          "name": "stdout",
          "text": [
            "Fontes\n"
          ]
        }
      ]
    },
    {
      "cell_type": "markdown",
      "source": [
        "exercício 3"
      ],
      "metadata": {
        "id": "f-T7r4mfaXDY"
      }
    },
    {
      "cell_type": "code",
      "source": [
        "print(nome[::-1])"
      ],
      "metadata": {
        "colab": {
          "base_uri": "https://localhost:8080/"
        },
        "id": "ilngmdm3aZj1",
        "outputId": "af60f732-b0b6-48e6-c2d8-172eb03a0243"
      },
      "execution_count": 23,
      "outputs": [
        {
          "output_type": "stream",
          "name": "stdout",
          "text": [
            "setnoF ovatsuG\n"
          ]
        }
      ]
    },
    {
      "cell_type": "markdown",
      "source": [
        "Exercício 4"
      ],
      "metadata": {
        "id": "egITV2oBa259"
      }
    },
    {
      "cell_type": "code",
      "source": [
        "# Exercício 4 - pegue a frase abaixo, aplique o split para fazer uma quebra toda vez que encontrar uma \",\"\n",
        "frase = \"Python é a linguagem ideal para o primeiro contato com programação, além da sua sintaxe simples e muito poderosa, Python tem diversas aplicações como: desenvolvimento web, análise de dados, inteligência artificial e automatização de tarefas, neste curso você aprenderá a lógica de programação para conquistar fluência na linguagem, a comunidade Python é a que mais cresce, assim como sua demanda de profissionais no mercado.\""
      ],
      "metadata": {
        "id": "1UGYIxa8a2FI"
      },
      "execution_count": 24,
      "outputs": []
    },
    {
      "cell_type": "code",
      "source": [
        "print(frase.split(','))"
      ],
      "metadata": {
        "colab": {
          "base_uri": "https://localhost:8080/"
        },
        "id": "Hh3nAPifbHyR",
        "outputId": "be98dd93-52b5-420f-fc08-1023913d3012"
      },
      "execution_count": 27,
      "outputs": [
        {
          "output_type": "stream",
          "name": "stdout",
          "text": [
            "['Python é a linguagem ideal para o primeiro contato com programação', ' além da sua sintaxe simples e muito poderosa', ' Python tem diversas aplicações como: desenvolvimento web', ' análise de dados', ' inteligência artificial e automatização de tarefas', ' neste curso você aprenderá a lógica de programação para conquistar fluência na linguagem', ' a comunidade Python é a que mais cresce', ' assim como sua demanda de profissionais no mercado.']\n"
          ]
        }
      ]
    },
    {
      "cell_type": "markdown",
      "source": [
        "Exercício 5"
      ],
      "metadata": {
        "id": "Rn_SI7frbdty"
      }
    },
    {
      "cell_type": "code",
      "source": [
        "# Exercício 5 -Imprima na tela os números de 1 a 10. Use uma lista para armazenar os números."
      ],
      "metadata": {
        "id": "sSm3G1Z2bfnC"
      },
      "execution_count": 28,
      "outputs": []
    },
    {
      "cell_type": "code",
      "source": [
        "numero = list(range(1,11))"
      ],
      "metadata": {
        "id": "8V01-a64blmR"
      },
      "execution_count": 33,
      "outputs": []
    },
    {
      "cell_type": "code",
      "source": [
        "print(numero)"
      ],
      "metadata": {
        "colab": {
          "base_uri": "https://localhost:8080/"
        },
        "id": "FXC-24_-b3KH",
        "outputId": "eebeb2b1-07bd-4261-eb83-eff85771dee7"
      },
      "execution_count": 34,
      "outputs": [
        {
          "output_type": "stream",
          "name": "stdout",
          "text": [
            "[1, 2, 3, 4, 5, 6, 7, 8, 9, 10]\n"
          ]
        }
      ]
    },
    {
      "cell_type": "markdown",
      "source": [
        "Exercício 6"
      ],
      "metadata": {
        "id": "7GaxsiWvb_iL"
      }
    },
    {
      "cell_type": "code",
      "source": [
        "# Exercício 6 - Crie uma lista de 5 objetos e imprima na tela"
      ],
      "metadata": {
        "id": "Hr5B_gxvb-gz"
      },
      "execution_count": 35,
      "outputs": []
    },
    {
      "cell_type": "code",
      "source": [
        "objetos = ['mesa', 'computador', 'monitor', 'cadeira', 'teclado']"
      ],
      "metadata": {
        "id": "wVsMr_aUcEkJ"
      },
      "execution_count": 39,
      "outputs": []
    },
    {
      "cell_type": "code",
      "source": [
        "print(objetos)"
      ],
      "metadata": {
        "colab": {
          "base_uri": "https://localhost:8080/"
        },
        "id": "axLit-dQcQV9",
        "outputId": "4bed774f-70f4-456b-fe5c-62e0a26fdfa5"
      },
      "execution_count": 40,
      "outputs": [
        {
          "output_type": "stream",
          "name": "stdout",
          "text": [
            "['mesa', 'computador', 'monitor', 'cadeira', 'teclado']\n"
          ]
        }
      ]
    },
    {
      "cell_type": "markdown",
      "source": [
        "Exercício 7"
      ],
      "metadata": {
        "id": "3SBZz_lkccKc"
      }
    },
    {
      "cell_type": "code",
      "source": [
        "# Exercício 7 - - Crie duas strings e concatene as duas em uma terceira string"
      ],
      "metadata": {
        "id": "jpuDww-2cdsZ"
      },
      "execution_count": 41,
      "outputs": []
    },
    {
      "cell_type": "code",
      "source": [
        "string1 = str(\"Gustavo \")\n",
        "string2 = str(\"Fontes \")\n",
        "string3 = string1 + string2\n",
        "print(string3)"
      ],
      "metadata": {
        "colab": {
          "base_uri": "https://localhost:8080/"
        },
        "id": "e3gBkrXqcoY3",
        "outputId": "6cbf781e-e112-428b-f5f2-199b98088eaa"
      },
      "execution_count": 45,
      "outputs": [
        {
          "output_type": "stream",
          "name": "stdout",
          "text": [
            "Gustavo Fontes \n"
          ]
        }
      ]
    },
    {
      "cell_type": "markdown",
      "source": [
        "Exercício 8"
      ],
      "metadata": {
        "id": "VdQdcTgUdAAn"
      }
    },
    {
      "cell_type": "code",
      "source": [
        "# Exercício 8 - Crie uma tupla com os seguintes elementos: 1, 2, 2, 3, 4, 4, 4, 5 e depois utilize a função count do\n",
        "# objeto tupla para verificar quantas vezes o número 4 aparece na tupla"
      ],
      "metadata": {
        "id": "dgbpc6HpdCN3"
      },
      "execution_count": null,
      "outputs": []
    },
    {
      "cell_type": "code",
      "source": [
        "numeros = (1, 2, 2, 3, 4, 4, 4, 5)\n",
        "print(numeros.count(4))"
      ],
      "metadata": {
        "colab": {
          "base_uri": "https://localhost:8080/"
        },
        "id": "j-82uI-OdHBy",
        "outputId": "a029684d-f3ae-48f9-dc15-a81ee89abfce"
      },
      "execution_count": 47,
      "outputs": [
        {
          "output_type": "stream",
          "name": "stdout",
          "text": [
            "3\n"
          ]
        }
      ]
    },
    {
      "cell_type": "markdown",
      "source": [
        "exercício 9"
      ],
      "metadata": {
        "id": "f2euyD50dVSG"
      }
    },
    {
      "cell_type": "code",
      "source": [
        "# Exercício 9 - Crie um dicionário vazio e imprima na tela"
      ],
      "metadata": {
        "id": "OW2QwM93dXGf"
      },
      "execution_count": 48,
      "outputs": []
    },
    {
      "cell_type": "code",
      "source": [
        "dicionario = []"
      ],
      "metadata": {
        "id": "_eQsqzjTdcgP"
      },
      "execution_count": 49,
      "outputs": []
    },
    {
      "cell_type": "code",
      "source": [
        "print(dicionario)"
      ],
      "metadata": {
        "colab": {
          "base_uri": "https://localhost:8080/"
        },
        "id": "_38EXiIudrak",
        "outputId": "0fbeaa80-ae90-4ffa-b168-825e0f96a064"
      },
      "execution_count": 50,
      "outputs": [
        {
          "output_type": "stream",
          "name": "stdout",
          "text": [
            "[]\n"
          ]
        }
      ]
    },
    {
      "cell_type": "markdown",
      "source": [
        "exercício 10"
      ],
      "metadata": {
        "id": "IN5GE3iVdteF"
      }
    },
    {
      "cell_type": "code",
      "source": [
        "# Exercício 10 - Crie um dicionário com 3 chaves e 3 valores e imprima na tela"
      ],
      "metadata": {
        "id": "hr11LP5ZdvnH"
      },
      "execution_count": 51,
      "outputs": []
    },
    {
      "cell_type": "code",
      "source": [
        "dicionario = {'chave1': 'valor1', 'chave2': 'valor2', 'chave3': 'valor3'}"
      ],
      "metadata": {
        "id": "805ds9-Pd1Ea"
      },
      "execution_count": 52,
      "outputs": []
    },
    {
      "cell_type": "code",
      "source": [
        "print(dicionario)"
      ],
      "metadata": {
        "colab": {
          "base_uri": "https://localhost:8080/"
        },
        "id": "gJThsfmbd7FM",
        "outputId": "d4a477e7-c10a-4507-d8fa-a8e891acebbb"
      },
      "execution_count": 55,
      "outputs": [
        {
          "output_type": "stream",
          "name": "stdout",
          "text": [
            "{'chave1': 'valor1', 'chave2': 'valor2', 'chave3': 'valor3'}\n"
          ]
        }
      ]
    },
    {
      "cell_type": "markdown",
      "source": [
        "exercício 11"
      ],
      "metadata": {
        "id": "k9SHXohBeAXV"
      }
    },
    {
      "cell_type": "code",
      "source": [
        "# Exercício 11 - Adicione mais um elemento ao dicionário criado no exercício anterior e imprima na tela"
      ],
      "metadata": {
        "id": "PeDOD_O8eB52"
      },
      "execution_count": 54,
      "outputs": []
    },
    {
      "cell_type": "code",
      "source": [
        "dicionario.update({'chave4': 'valor4'})"
      ],
      "metadata": {
        "id": "djkVyneyeDWg"
      },
      "execution_count": 63,
      "outputs": []
    },
    {
      "cell_type": "code",
      "source": [
        "print(dicionario)"
      ],
      "metadata": {
        "colab": {
          "base_uri": "https://localhost:8080/"
        },
        "id": "s_m_uq1Hf6B4",
        "outputId": "2262922b-a4ce-47f0-dc9f-18f006093d29"
      },
      "execution_count": 64,
      "outputs": [
        {
          "output_type": "stream",
          "name": "stdout",
          "text": [
            "{'chave1': 'valor1', 'chave2': 'valor2', 'chave3': 'valor3', 'chave4': 'valor4'}\n"
          ]
        }
      ]
    },
    {
      "cell_type": "markdown",
      "source": [
        "exercício 12"
      ],
      "metadata": {
        "id": "lt8oAL2-gCYg"
      }
    },
    {
      "cell_type": "code",
      "source": [
        "# Exercício 12 - Crie um dicionário com 3 chaves e 3 valores. Um dos valores deve ser uma lista de 2 elementos numéricos.\n",
        "# Imprima o dicionário na tela."
      ],
      "metadata": {
        "id": "x63PCP79gJ6j"
      },
      "execution_count": 65,
      "outputs": []
    },
    {
      "cell_type": "code",
      "source": [
        "dicionario = {'chave1': 'valor1', 'chave2': 'valor2', 'chave3': [1, 2]}"
      ],
      "metadata": {
        "id": "J3ur2t6EgK1j"
      },
      "execution_count": 66,
      "outputs": []
    },
    {
      "cell_type": "code",
      "source": [
        "print(dicionario)"
      ],
      "metadata": {
        "colab": {
          "base_uri": "https://localhost:8080/"
        },
        "id": "MNKUDG2wgOR-",
        "outputId": "cbd2a750-d995-4c7d-f324-bad4a1b70088"
      },
      "execution_count": 67,
      "outputs": [
        {
          "output_type": "stream",
          "name": "stdout",
          "text": [
            "{'chave1': 'valor1', 'chave2': 'valor2', 'chave3': [1, 2]}\n"
          ]
        }
      ]
    },
    {
      "cell_type": "markdown",
      "source": [
        "exercício 13"
      ],
      "metadata": {
        "id": "nvATXGd0gRjf"
      }
    },
    {
      "cell_type": "code",
      "source": [
        "# Exercício 13 - Crie uma lista de 4 elementos. O primeiro elemento deve ser uma string,\n",
        "# o segundo uma tupla de 2 elementos, o terceiro um dcionário com 2 chaves e 2 valores e\n",
        "# o quarto elemento um valor do tipo float.\n",
        "# Imprima a lista na tela."
      ],
      "metadata": {
        "id": "A3ulTeLegUPA"
      },
      "execution_count": 68,
      "outputs": []
    },
    {
      "cell_type": "code",
      "source": [
        "lista = [str(\"Gustavo\"), (1, 2), {'chave1': 'valor1', 'chave2': 'valor2'}, float(1.5)]"
      ],
      "metadata": {
        "id": "A_SGzYJ_gk3_"
      },
      "execution_count": 81,
      "outputs": []
    },
    {
      "cell_type": "code",
      "source": [
        "print(lista)"
      ],
      "metadata": {
        "colab": {
          "base_uri": "https://localhost:8080/"
        },
        "id": "3z_XR0mThQs5",
        "outputId": "79341f31-cee4-45ce-adbb-0423374475dd"
      },
      "execution_count": 82,
      "outputs": [
        {
          "output_type": "stream",
          "name": "stdout",
          "text": [
            "['Gustavo', (1, 2), {'chave1': 'valor1', 'chave2': 'valor2'}, 1.5]\n"
          ]
        }
      ]
    },
    {
      "cell_type": "markdown",
      "source": [
        "exercício 14"
      ],
      "metadata": {
        "id": "6cdhu2t2h9pe"
      }
    },
    {
      "cell_type": "code",
      "source": [
        "# Exercício 14 - Considere a string abaixo. Imprima na tela apenas os caracteres da posição 1 a 18.\n",
        "frase = 'Cientista de Dados é o profissional mais legal do século XXI'"
      ],
      "metadata": {
        "id": "GTKJ33Rih_Fa"
      },
      "execution_count": 83,
      "outputs": []
    },
    {
      "cell_type": "code",
      "source": [
        "print(frase[1:18])"
      ],
      "metadata": {
        "colab": {
          "base_uri": "https://localhost:8080/"
        },
        "id": "cnGk-Yf1iErN",
        "outputId": "326f6704-d329-4ccb-bda2-c7e695d1366d"
      },
      "execution_count": 84,
      "outputs": [
        {
          "output_type": "stream",
          "name": "stdout",
          "text": [
            "ientista de Dados\n"
          ]
        }
      ]
    },
    {
      "cell_type": "markdown",
      "source": [
        "**Exercícios de Manipulação de Strings**"
      ],
      "metadata": {
        "id": "mNZdsijYiMRw"
      }
    },
    {
      "cell_type": "markdown",
      "source": [
        "Exercício 1"
      ],
      "metadata": {
        "id": "4fSbpV3Zif8X"
      }
    },
    {
      "cell_type": "code",
      "source": [
        "# 1 - Use o método len para imprimir o comprimento da string.\n",
        "x = \"Hello World\"\n",
        "print(len(x))"
      ],
      "metadata": {
        "colab": {
          "base_uri": "https://localhost:8080/"
        },
        "id": "b6ndlVwFiR1R",
        "outputId": "c9961e4a-df46-4368-b295-6e673e6a9397"
      },
      "execution_count": 85,
      "outputs": [
        {
          "output_type": "stream",
          "name": "stdout",
          "text": [
            "11\n"
          ]
        }
      ]
    },
    {
      "cell_type": "markdown",
      "source": [
        "Exercício 2"
      ],
      "metadata": {
        "id": "qpgVxIVsih34"
      }
    },
    {
      "cell_type": "code",
      "source": [
        "# 2 - Obtenha o primeiro caractere da string txt.\n",
        "txt = \"Hello World\"\n",
        "x = print(txt[0])"
      ],
      "metadata": {
        "colab": {
          "base_uri": "https://localhost:8080/"
        },
        "id": "SztvNrj1iYXV",
        "outputId": "03711bd2-8b95-48e9-ecf8-55cfa003dff7"
      },
      "execution_count": 86,
      "outputs": [
        {
          "output_type": "stream",
          "name": "stdout",
          "text": [
            "H\n"
          ]
        }
      ]
    },
    {
      "cell_type": "markdown",
      "source": [
        "Exercício 3"
      ],
      "metadata": {
        "id": "rqnHaiOBikD5"
      }
    },
    {
      "cell_type": "code",
      "source": [
        "# 3 - Obtenha os caracteres do índice 2 ao índice 4 ( llo).\n",
        "txt = \"Hello World\"\n",
        "x = print(txt[2:4])"
      ],
      "metadata": {
        "colab": {
          "base_uri": "https://localhost:8080/"
        },
        "id": "snBoOLIxijua",
        "outputId": "f8b7aa0e-b162-4005-c886-e254d0ae0674"
      },
      "execution_count": 90,
      "outputs": [
        {
          "output_type": "stream",
          "name": "stdout",
          "text": [
            "ll\n"
          ]
        }
      ]
    },
    {
      "cell_type": "markdown",
      "source": [
        "Exercício 4"
      ],
      "metadata": {
        "id": "2HDaamDAifGG"
      }
    },
    {
      "cell_type": "code",
      "source": [
        "# 4 - Converta o valor de txt para maiúsculas.\n",
        "txt = \"Hello World\"\n",
        "x = print(txt.upper())"
      ],
      "metadata": {
        "colab": {
          "base_uri": "https://localhost:8080/"
        },
        "id": "mlurZjOYi5vp",
        "outputId": "ee2d4313-b8dc-49dc-b1c2-4eaeed8cb669"
      },
      "execution_count": 95,
      "outputs": [
        {
          "output_type": "stream",
          "name": "stdout",
          "text": [
            "HELLO WORLD\n"
          ]
        }
      ]
    },
    {
      "cell_type": "markdown",
      "source": [
        "Exercício 5"
      ],
      "metadata": {
        "id": "YrVX6O63jKJg"
      }
    },
    {
      "cell_type": "code",
      "source": [
        "# - Conte quantas vezes aparece a palavra \"de\" na string abaixo\n",
        "txt = \"Eu gosto de vijar, tomar vinho, de estudar estudar programação, de estudar Pyhon\"\n",
        "x = print(txt.count(\"de\"))"
      ],
      "metadata": {
        "colab": {
          "base_uri": "https://localhost:8080/"
        },
        "id": "zKc6vRpnjMLA",
        "outputId": "42f5f6ea-b9ee-46c0-cfac-170dc4a9deb2"
      },
      "execution_count": 97,
      "outputs": [
        {
          "output_type": "stream",
          "name": "stdout",
          "text": [
            "3\n"
          ]
        }
      ]
    },
    {
      "cell_type": "markdown",
      "source": [
        "Exercício 6"
      ],
      "metadata": {
        "id": "2b9K3QPRjXIF"
      }
    },
    {
      "cell_type": "code",
      "source": [
        "# - Separe a frase abaixo toda vez que encontrar um vírgula\n",
        "txt = \"Eu gosto de vijar, tomar vinho, de estudar estudar programação, de estudar Pyhon\"\n",
        "txt = print(txt.split(','))"
      ],
      "metadata": {
        "colab": {
          "base_uri": "https://localhost:8080/"
        },
        "id": "CC3T7WLNjPe6",
        "outputId": "5dbe65b4-3f55-4adb-939a-84f46ecadbd8"
      },
      "execution_count": 98,
      "outputs": [
        {
          "output_type": "stream",
          "name": "stdout",
          "text": [
            "['Eu gosto de vijar', ' tomar vinho', ' de estudar estudar programação', ' de estudar Pyhon']\n"
          ]
        }
      ]
    }
  ]
}