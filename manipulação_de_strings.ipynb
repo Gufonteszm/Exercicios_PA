{
  "nbformat": 4,
  "nbformat_minor": 0,
  "metadata": {
    "colab": {
      "provenance": [],
      "authorship_tag": "ABX9TyOadteqTtIxZa/WXbtVPAHI",
      "include_colab_link": true
    },
    "kernelspec": {
      "name": "python3",
      "display_name": "Python 3"
    },
    "language_info": {
      "name": "python"
    }
  },
  "cells": [
    {
      "cell_type": "markdown",
      "metadata": {
        "id": "view-in-github",
        "colab_type": "text"
      },
      "source": [
        "<a href=\"https://colab.research.google.com/github/Gufonteszm/Exercicios_PA/blob/main/manipula%C3%A7%C3%A3o_de_strings.ipynb\" target=\"_parent\"><img src=\"https://colab.research.google.com/assets/colab-badge.svg\" alt=\"Open In Colab\"/></a>"
      ]
    },
    {
      "cell_type": "markdown",
      "source": [
        "**Exercício 1**"
      ],
      "metadata": {
        "id": "3hOhAudzgcjP"
      }
    },
    {
      "cell_type": "code",
      "source": [
        "x = \"Hello World\"\n",
        "print(len(x))"
      ],
      "metadata": {
        "colab": {
          "base_uri": "https://localhost:8080/"
        },
        "id": "p3grGQU4e8eL",
        "outputId": "8beff0fb-51bb-4188-aba1-e205823a90dd"
      },
      "execution_count": 5,
      "outputs": [
        {
          "output_type": "stream",
          "name": "stdout",
          "text": [
            "11\n"
          ]
        }
      ]
    },
    {
      "cell_type": "markdown",
      "source": [
        "**Exercício 2**"
      ],
      "metadata": {
        "id": "ctr7IGudghWc"
      }
    },
    {
      "cell_type": "code",
      "source": [
        "# 2 - Obtenha o primeiro caractere da string txt.\n",
        "txt = \"Hello World\"\n",
        "x = print(txt[0])"
      ],
      "metadata": {
        "colab": {
          "base_uri": "https://localhost:8080/"
        },
        "id": "J5BJIIWjfDDb",
        "outputId": "6ea63524-2675-4731-fa04-83fd49901476"
      },
      "execution_count": 6,
      "outputs": [
        {
          "output_type": "stream",
          "name": "stdout",
          "text": [
            "H\n"
          ]
        }
      ]
    },
    {
      "cell_type": "markdown",
      "source": [
        "**Exercícfio 3**"
      ],
      "metadata": {
        "id": "30ASwjcngxcm"
      }
    },
    {
      "cell_type": "code",
      "source": [
        "# 3 - Obtenha os caracteres do índice 2 ao índice 4 ( llo).\n",
        "txt = \"Hello World\"\n",
        "x = print(txt[2:5])"
      ],
      "metadata": {
        "colab": {
          "base_uri": "https://localhost:8080/"
        },
        "id": "JvaEWFXFfMKg",
        "outputId": "e039ebda-425b-4f4c-f9bc-dd5268fdd5dc"
      },
      "execution_count": 7,
      "outputs": [
        {
          "output_type": "stream",
          "name": "stdout",
          "text": [
            "llo\n"
          ]
        }
      ]
    },
    {
      "cell_type": "markdown",
      "source": [
        "**Exercício 4**"
      ],
      "metadata": {
        "id": "Beuz_iSfg7po"
      }
    },
    {
      "cell_type": "code",
      "source": [
        "# 4 - Converta o valor de txt para maiúsculas.\n",
        "txt = \"Hello World\"\n",
        "txt = print(txt.upper())"
      ],
      "metadata": {
        "colab": {
          "base_uri": "https://localhost:8080/"
        },
        "id": "MUHOs_e3fSIG",
        "outputId": "b8c5b1be-19c7-40ea-8002-593d8670450f"
      },
      "execution_count": 9,
      "outputs": [
        {
          "output_type": "stream",
          "name": "stdout",
          "text": [
            "HELLO WORLD\n"
          ]
        }
      ]
    },
    {
      "cell_type": "markdown",
      "source": [],
      "metadata": {
        "id": "SPti14KXhA1a"
      }
    },
    {
      "cell_type": "markdown",
      "source": [
        "**Exercício 5**"
      ],
      "metadata": {
        "id": "hmuH_t7whECQ"
      }
    },
    {
      "cell_type": "code",
      "source": [
        "# - Conte quantas vezes aparece a palavra \"de\" na string abaixo\n",
        "txt = \"Eu gosto de vijar, tomar vinho, de estudar estudar programação, de estudar Pyhon\"\n",
        "x = print(txt.count(\"de\"))"
      ],
      "metadata": {
        "colab": {
          "base_uri": "https://localhost:8080/"
        },
        "id": "KbisQNTwflV7",
        "outputId": "2b32b752-2005-4e52-b82f-b7271459a056"
      },
      "execution_count": 10,
      "outputs": [
        {
          "output_type": "stream",
          "name": "stdout",
          "text": [
            "3\n"
          ]
        }
      ]
    },
    {
      "cell_type": "markdown",
      "source": [
        "**Exercício 6**"
      ],
      "metadata": {
        "id": "4Ffkyq_LhF55"
      }
    },
    {
      "cell_type": "code",
      "source": [
        "# - Separe a frase abaixo toda vez que encontrar um vírgula\n",
        "txt = \"Eu gosto de vijar, tomar vinho, de estudar estudar programação, de estudar Pyhon\"\n",
        "x = print(txt.split(','))"
      ],
      "metadata": {
        "colab": {
          "base_uri": "https://localhost:8080/"
        },
        "id": "SLDqkHu2f90i",
        "outputId": "230e26db-755f-426e-926a-32d5dabaa016"
      },
      "execution_count": 12,
      "outputs": [
        {
          "output_type": "stream",
          "name": "stdout",
          "text": [
            "['Eu gosto de vijar', ' tomar vinho', ' de estudar estudar programação', ' de estudar Pyhon']\n"
          ]
        }
      ]
    },
    {
      "cell_type": "markdown",
      "source": [
        "**Exercício 7**"
      ],
      "metadata": {
        "id": "Yv3RFT40ithj"
      }
    },
    {
      "cell_type": "code",
      "source": [
        "txt = input(\"Digite seu nome completo: \")\n",
        "\n",
        "x = print(\"Nome em maiúsculo:\", txt.upper())\n",
        "\n",
        "x = print(\"Nome em minúsculo:\", txt.lower())\n",
        "\n",
        "x = txt.replace(\" \",\"\")\n",
        "print(\"Quantidade de letras (sem contar o espaço):\", len(x))\n",
        "\n",
        "x = txt.split()\n",
        "print(\"Quantidade de letras do 1º nome:\", len(x[0]))\n",
        "\n",
        "x = txt.count('a')\n",
        "txt.count('e')\n",
        "txt.count('i')\n",
        "txt.count('o')\n",
        "txt.count('u')\n",
        "print(\"quantidade de vogais no seu nome:\", txt.count('a')+txt.count('e')+txt.count('i')+txt.count('o')+txt.count('u'), 'vogais')\n",
        "\n"
      ],
      "metadata": {
        "colab": {
          "base_uri": "https://localhost:8080/"
        },
        "id": "r8ugFHsEis1v",
        "outputId": "8118c0b7-071c-4c7a-f7c8-303a1c74ede1"
      },
      "execution_count": 45,
      "outputs": [
        {
          "output_type": "stream",
          "name": "stdout",
          "text": [
            "Digite seu nome completo: gustavo fontes mazza silva\n",
            "Nome em maiúsculo: GUSTAVO FONTES MAZZA SILVA\n",
            "Nome em minúsculo: gustavo fontes mazza silva\n",
            "Quantidade de letras (sem contar o espaço): 23\n",
            "Quantidade de letras do 1º nome: 7\n",
            "quantidade de vogais no seu nome: 9 vogais\n"
          ]
        }
      ]
    }
  ]
}