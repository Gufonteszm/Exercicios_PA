{
  "nbformat": 4,
  "nbformat_minor": 0,
  "metadata": {
    "colab": {
      "provenance": [],
      "authorship_tag": "ABX9TyPbWfd66l2elUXICppWRj7u",
      "include_colab_link": true
    },
    "kernelspec": {
      "name": "python3",
      "display_name": "Python 3"
    },
    "language_info": {
      "name": "python"
    }
  },
  "cells": [
    {
      "cell_type": "markdown",
      "metadata": {
        "id": "view-in-github",
        "colab_type": "text"
      },
      "source": [
        "<a href=\"https://colab.research.google.com/github/Gufonteszm/Exercicios_PA/blob/main/exerc%C3%ADcios_com_if.ipynb\" target=\"_parent\"><img src=\"https://colab.research.google.com/assets/colab-badge.svg\" alt=\"Open In Colab\"/></a>"
      ]
    },
    {
      "cell_type": "markdown",
      "source": [
        "**Exercício 1**"
      ],
      "metadata": {
        "id": "Kw_bCctE6HSf"
      }
    },
    {
      "cell_type": "code",
      "execution_count": null,
      "metadata": {
        "id": "mkYQ0-AI4NP0"
      },
      "outputs": [],
      "source": [
        "##entrada"
      ]
    },
    {
      "cell_type": "code",
      "source": [
        "ano = int(input(\"Digite o ano: \"))"
      ],
      "metadata": {
        "colab": {
          "base_uri": "https://localhost:8080/"
        },
        "id": "a7chPvyr4UZx",
        "outputId": "e0ae7e4d-74c4-4583-e43f-cb1262065ec2"
      },
      "execution_count": null,
      "outputs": [
        {
          "name": "stdout",
          "output_type": "stream",
          "text": [
            "Digite o ano: 1000\n"
          ]
        }
      ]
    },
    {
      "cell_type": "code",
      "source": [
        "##processamento"
      ],
      "metadata": {
        "id": "xOOBio6a4bB7"
      },
      "execution_count": null,
      "outputs": []
    },
    {
      "cell_type": "code",
      "source": [
        "if ano % 4 == 0 and ano % 100 == 0 or ano % 400 == 0:\n",
        "  print(\"O ano é bissexto\")\n",
        "else:\n",
        "  print(\"O ano não é bissexto\")"
      ],
      "metadata": {
        "colab": {
          "base_uri": "https://localhost:8080/"
        },
        "id": "j26oV5cR4d38",
        "outputId": "bcece2e5-512a-4bd6-d73d-10086e29ba89"
      },
      "execution_count": null,
      "outputs": [
        {
          "output_type": "stream",
          "name": "stdout",
          "text": [
            "O ano é bissexto\n"
          ]
        }
      ]
    },
    {
      "cell_type": "markdown",
      "source": [
        "**Exercício 2**"
      ],
      "metadata": {
        "id": "QPJYu9OE6CM0"
      }
    },
    {
      "cell_type": "code",
      "source": [
        "##entrada"
      ],
      "metadata": {
        "id": "fls_uelW6GVu"
      },
      "execution_count": null,
      "outputs": []
    },
    {
      "cell_type": "code",
      "source": [
        "idade = int(input(\"Digite a idade: \"))"
      ],
      "metadata": {
        "colab": {
          "base_uri": "https://localhost:8080/"
        },
        "id": "s89baDQh6MFy",
        "outputId": "c0a51a58-9274-42bd-d9b0-405076ff2fbc"
      },
      "execution_count": null,
      "outputs": [
        {
          "name": "stdout",
          "output_type": "stream",
          "text": [
            "Digite a idade: 21\n"
          ]
        }
      ]
    },
    {
      "cell_type": "code",
      "source": [
        "#processamento"
      ],
      "metadata": {
        "id": "np272FCa6lWh"
      },
      "execution_count": null,
      "outputs": []
    },
    {
      "cell_type": "code",
      "source": [
        "if idade >= 0 and idade <=12:\n",
        "  print(\"criança\")\n",
        "\n",
        "elif idade >= 13 and idade <= 17:\n",
        "    print(\"adolescente\")\n",
        "\n",
        "elif idade >= 18 and idade <= 59:\n",
        "    print(\"adulto\")"
      ],
      "metadata": {
        "colab": {
          "base_uri": "https://localhost:8080/"
        },
        "id": "7r6pFgth6o6K",
        "outputId": "3abc3120-5248-4334-db25-56e76ff87c07"
      },
      "execution_count": null,
      "outputs": [
        {
          "output_type": "stream",
          "name": "stdout",
          "text": [
            "adulto\n"
          ]
        }
      ]
    },
    {
      "cell_type": "markdown",
      "source": [
        "**Exercício 3**"
      ],
      "metadata": {
        "id": "gSettKwp6-6O"
      }
    },
    {
      "cell_type": "code",
      "source": [
        "##entrada"
      ],
      "metadata": {
        "id": "03B2Bf_17Ouf"
      },
      "execution_count": null,
      "outputs": []
    },
    {
      "cell_type": "code",
      "source": [
        "número = int(input(\"Digite o número: \"))"
      ],
      "metadata": {
        "colab": {
          "base_uri": "https://localhost:8080/"
        },
        "id": "OJtqrdsI7CAg",
        "outputId": "5473d764-597f-4658-d083-34f0c8d16bd6"
      },
      "execution_count": null,
      "outputs": [
        {
          "name": "stdout",
          "output_type": "stream",
          "text": [
            "Digite o número: 60\n"
          ]
        }
      ]
    },
    {
      "cell_type": "code",
      "source": [
        "##processamento"
      ],
      "metadata": {
        "id": "lr_Hak4E7IKq"
      },
      "execution_count": null,
      "outputs": []
    },
    {
      "cell_type": "code",
      "source": [
        "if número >= 10 and número <= 50:\n",
        "  print(\"O número está dentro do intervalo\")\n",
        "else:\n",
        "  print(\"O número está fora do intervalo\")\n"
      ],
      "metadata": {
        "colab": {
          "base_uri": "https://localhost:8080/"
        },
        "id": "Sa4VaQEU7U_B",
        "outputId": "d9f0edcc-2a3e-4a25-9c90-e68f2fe25232"
      },
      "execution_count": null,
      "outputs": [
        {
          "output_type": "stream",
          "name": "stdout",
          "text": [
            "O número está fora do intervalo\n"
          ]
        }
      ]
    },
    {
      "cell_type": "markdown",
      "source": [
        "**Exercício 4**"
      ],
      "metadata": {
        "id": "1SOSpK0TGYbX"
      }
    },
    {
      "cell_type": "code",
      "source": [
        "##entrada"
      ],
      "metadata": {
        "id": "pQsZ1EvAGWHN"
      },
      "execution_count": null,
      "outputs": []
    },
    {
      "cell_type": "code",
      "source": [
        "emprestimo = float(input(\"Digite o valor da prestação: \"))"
      ],
      "metadata": {
        "colab": {
          "base_uri": "https://localhost:8080/"
        },
        "id": "OQ9aw0FLGhml",
        "outputId": "edb028ba-1b08-46c8-c21c-ba8eadf96031"
      },
      "execution_count": null,
      "outputs": [
        {
          "name": "stdout",
          "output_type": "stream",
          "text": [
            "Digite o valor da prestação: 5000\n"
          ]
        }
      ]
    },
    {
      "cell_type": "code",
      "source": [
        "salário_mensal = float(input(\"Digite o valor do salário mensal: \"))"
      ],
      "metadata": {
        "colab": {
          "base_uri": "https://localhost:8080/"
        },
        "id": "EP59huMxGnk-",
        "outputId": "75b2d177-a210-4dfe-a3c8-36cca3079e87"
      },
      "execution_count": null,
      "outputs": [
        {
          "name": "stdout",
          "output_type": "stream",
          "text": [
            "Digite o valor do salário mensal: 4000\n"
          ]
        }
      ]
    },
    {
      "cell_type": "code",
      "source": [
        "parcela = float(input(\"Digite o valor da parcela: \"))"
      ],
      "metadata": {
        "colab": {
          "base_uri": "https://localhost:8080/"
        },
        "id": "tNij3xhcGtih",
        "outputId": "db53d771-581f-401e-bb34-779b649c3461"
      },
      "execution_count": null,
      "outputs": [
        {
          "name": "stdout",
          "output_type": "stream",
          "text": [
            "Digite o valor da parcela: 10\n"
          ]
        }
      ]
    },
    {
      "cell_type": "code",
      "source": [
        "##processamento"
      ],
      "metadata": {
        "id": "CA8MvntIGz0m"
      },
      "execution_count": null,
      "outputs": []
    },
    {
      "cell_type": "code",
      "source": [
        "if (emprestimo / parcela) > (salário_mensal * 30 / 100):\n",
        "  print(\"Empréstimo não concedido\")\n",
        "else:\n",
        "  print(\"Empréstimo concedido\")"
      ],
      "metadata": {
        "colab": {
          "base_uri": "https://localhost:8080/"
        },
        "id": "mFYQz9B3G_6E",
        "outputId": "3be1b6af-cf9f-41c3-e14c-fbc31927b4b0"
      },
      "execution_count": null,
      "outputs": [
        {
          "output_type": "stream",
          "name": "stdout",
          "text": [
            "Empréstimo concedido\n"
          ]
        }
      ]
    },
    {
      "cell_type": "markdown",
      "source": [
        "**Refazendo os exercícios**"
      ],
      "metadata": {
        "id": "aDe-n2Lo2GPw"
      }
    },
    {
      "cell_type": "markdown",
      "source": [
        "**Exercício 1**"
      ],
      "metadata": {
        "id": "VX20cOJwH_pZ"
      }
    },
    {
      "cell_type": "code",
      "source": [
        "##entrada"
      ],
      "metadata": {
        "id": "TONLRjrXI2mP"
      },
      "execution_count": null,
      "outputs": []
    },
    {
      "cell_type": "code",
      "source": [
        "número = float(input(\"Digite o número: \"))"
      ],
      "metadata": {
        "colab": {
          "base_uri": "https://localhost:8080/"
        },
        "id": "cwDKMnEwHe43",
        "outputId": "ae99433d-e99f-47b0-8f36-3710e8fedf7f"
      },
      "execution_count": null,
      "outputs": [
        {
          "name": "stdout",
          "output_type": "stream",
          "text": [
            "Digite o número: 36\n"
          ]
        }
      ]
    },
    {
      "cell_type": "code",
      "source": [
        "##processamento\n",
        "if número % 2 == 0:\n",
        "  print(\"O número é par\")\n",
        "else:\n",
        "  print(\"O número é ímpar\")"
      ],
      "metadata": {
        "colab": {
          "base_uri": "https://localhost:8080/"
        },
        "id": "idsY6FmFI5yA",
        "outputId": "4e02bad4-90aa-4232-fd84-cc4e648d4a64"
      },
      "execution_count": null,
      "outputs": [
        {
          "output_type": "stream",
          "name": "stdout",
          "text": [
            "O número é par\n"
          ]
        }
      ]
    },
    {
      "cell_type": "markdown",
      "source": [
        "**Exercício 2**"
      ],
      "metadata": {
        "id": "NuomANvNJNSu"
      }
    },
    {
      "cell_type": "code",
      "source": [
        "##entrada"
      ],
      "metadata": {
        "id": "lYy-7XMnJQy3"
      },
      "execution_count": null,
      "outputs": []
    },
    {
      "cell_type": "code",
      "source": [
        "l1 = float(input(\"Digite o lado 1: \"))"
      ],
      "metadata": {
        "colab": {
          "base_uri": "https://localhost:8080/"
        },
        "id": "sQa4XHNCJS_i",
        "outputId": "7483a5aa-717a-46b1-9f27-2f1652806d20"
      },
      "execution_count": null,
      "outputs": [
        {
          "name": "stdout",
          "output_type": "stream",
          "text": [
            "Digite o lado 1: 10\n"
          ]
        }
      ]
    },
    {
      "cell_type": "code",
      "source": [
        "l2 = float(input(\"Digite o lado 2: \"))"
      ],
      "metadata": {
        "colab": {
          "base_uri": "https://localhost:8080/"
        },
        "id": "6bYncE9NJYyi",
        "outputId": "b59728bf-41c4-4f5c-e130-deda839e6c96"
      },
      "execution_count": null,
      "outputs": [
        {
          "name": "stdout",
          "output_type": "stream",
          "text": [
            "Digite o lado 2: 12\n"
          ]
        }
      ]
    },
    {
      "cell_type": "code",
      "source": [
        "l3 = float(input(\"Digite o lado 3: \"))"
      ],
      "metadata": {
        "colab": {
          "base_uri": "https://localhost:8080/"
        },
        "id": "YcAy7k57Jbsl",
        "outputId": "e1bc24ff-d3b9-4404-912f-f52de492bb1d"
      },
      "execution_count": null,
      "outputs": [
        {
          "name": "stdout",
          "output_type": "stream",
          "text": [
            "Digite o lado 3: 15\n"
          ]
        }
      ]
    },
    {
      "cell_type": "code",
      "source": [
        "#processamento"
      ],
      "metadata": {
        "id": "vHjV1YAXJeI9"
      },
      "execution_count": null,
      "outputs": []
    },
    {
      "cell_type": "code",
      "source": [
        "if l1 > l2 + l3 or l2 > l1 + l3 or l3 > l1 + l2:\n",
        "  print(\"Não é um triângulo\")\n",
        "\n",
        "if l1 == l2 == l3:\n",
        "  print(\"Triângulo equilátero\")\n",
        "elif l1 == l2 or l1 == l3 or l2 == l3:\n",
        "  print(\"Triângulo isósceles\")\n",
        "elif l1 != l2 != l3:\n",
        "  print(\"Triângulo escaleno\")\n"
      ],
      "metadata": {
        "colab": {
          "base_uri": "https://localhost:8080/"
        },
        "id": "kLmmbaHiJwef",
        "outputId": "4e8f9208-4796-4a2e-f7e1-facd828a1f58"
      },
      "execution_count": null,
      "outputs": [
        {
          "output_type": "stream",
          "name": "stdout",
          "text": [
            "Triângulo escaleno\n"
          ]
        }
      ]
    },
    {
      "cell_type": "markdown",
      "source": [
        "**Exercício 3**"
      ],
      "metadata": {
        "id": "zwYcR1x4KCk7"
      }
    },
    {
      "cell_type": "code",
      "source": [
        "##entrada"
      ],
      "metadata": {
        "id": "EVPHT5miKBZS"
      },
      "execution_count": 35,
      "outputs": []
    },
    {
      "cell_type": "code",
      "source": [
        "peso = float(input(\"Digite o peso em kg: \"))"
      ],
      "metadata": {
        "colab": {
          "base_uri": "https://localhost:8080/"
        },
        "id": "pMRhWpUoKISN",
        "outputId": "189f98a5-9f4b-443e-f522-39d492799104"
      },
      "execution_count": 36,
      "outputs": [
        {
          "name": "stdout",
          "output_type": "stream",
          "text": [
            "Digite o peso em kg: 160\n"
          ]
        }
      ]
    },
    {
      "cell_type": "code",
      "source": [
        "altura = float(input(\"Digite a altura em metros: \"))"
      ],
      "metadata": {
        "colab": {
          "base_uri": "https://localhost:8080/"
        },
        "id": "SEfy3gt4KVGk",
        "outputId": "5587ec15-2b90-4162-ae07-3b0225ccb39d"
      },
      "execution_count": 37,
      "outputs": [
        {
          "name": "stdout",
          "output_type": "stream",
          "text": [
            "Digite a altura em metros: 1.57\n"
          ]
        }
      ]
    },
    {
      "cell_type": "code",
      "source": [
        "##processamento"
      ],
      "metadata": {
        "id": "wfj0G_k6KaIw"
      },
      "execution_count": 38,
      "outputs": []
    },
    {
      "cell_type": "code",
      "source": [
        "imc = peso / altura ** 2"
      ],
      "metadata": {
        "id": "yrxOvFEfKb7_"
      },
      "execution_count": 39,
      "outputs": []
    },
    {
      "cell_type": "code",
      "source": [
        "if imc < 18.5:\n",
        "  print(\"Abaixo do peso\")\n",
        "if imc < 18.5:\n",
        "  print(\"Abaixo do peso\")\n",
        "elif imc >= 18.5 and imc <= 24.9:\n",
        "  print(\"Peso normal\")\n",
        "elif imc >= 25 and imc <= 29.9:\n",
        "  print(\"Sobrepeso\")\n",
        "elif imc >= 30 and imc <= 34.9:\n",
        "  print(\"Obesidade grau 1\")\n",
        "elif imc >= 35 and imc <= 39.9:\n",
        "  print(\"Obesidade grau 2\")\n",
        "elif imc >= 40:\n",
        "  print(\"Obesidade grau 3\")"
      ],
      "metadata": {
        "colab": {
          "base_uri": "https://localhost:8080/"
        },
        "id": "1cSI_TQg2f2f",
        "outputId": "25b8a4e8-4b9d-4fb5-bd61-2b4633a00a27"
      },
      "execution_count": 40,
      "outputs": [
        {
          "output_type": "stream",
          "name": "stdout",
          "text": [
            "Obesidade grau 3\n"
          ]
        }
      ]
    },
    {
      "cell_type": "markdown",
      "source": [
        "**Exercício 4**"
      ],
      "metadata": {
        "id": "QI09uVPt46W2"
      }
    },
    {
      "cell_type": "code",
      "source": [],
      "metadata": {
        "id": "Kzup9mae3QYS"
      },
      "execution_count": 20,
      "outputs": []
    }
  ]
}