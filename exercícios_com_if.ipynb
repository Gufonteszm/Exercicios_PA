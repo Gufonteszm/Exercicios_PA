{
  "nbformat": 4,
  "nbformat_minor": 0,
  "metadata": {
    "colab": {
      "provenance": [],
      "authorship_tag": "ABX9TyOwbjMm4Nl/SV5jlSOrulgk",
      "include_colab_link": true
    },
    "kernelspec": {
      "name": "python3",
      "display_name": "Python 3"
    },
    "language_info": {
      "name": "python"
    }
  },
  "cells": [
    {
      "cell_type": "markdown",
      "metadata": {
        "id": "view-in-github",
        "colab_type": "text"
      },
      "source": [
        "<a href=\"https://colab.research.google.com/github/Gufonteszm/Exercicios_PA/blob/main/exerc%C3%ADcios_com_if.ipynb\" target=\"_parent\"><img src=\"https://colab.research.google.com/assets/colab-badge.svg\" alt=\"Open In Colab\"/></a>"
      ]
    },
    {
      "cell_type": "markdown",
      "source": [
        "**Exercício 1**"
      ],
      "metadata": {
        "id": "Kw_bCctE6HSf"
      }
    },
    {
      "cell_type": "code",
      "execution_count": 23,
      "metadata": {
        "id": "mkYQ0-AI4NP0"
      },
      "outputs": [],
      "source": [
        "##entrada"
      ]
    },
    {
      "cell_type": "code",
      "source": [
        "ano = int(input(\"Digite o ano: \"))"
      ],
      "metadata": {
        "colab": {
          "base_uri": "https://localhost:8080/"
        },
        "id": "a7chPvyr4UZx",
        "outputId": "e0ae7e4d-74c4-4583-e43f-cb1262065ec2"
      },
      "execution_count": 24,
      "outputs": [
        {
          "name": "stdout",
          "output_type": "stream",
          "text": [
            "Digite o ano: 1000\n"
          ]
        }
      ]
    },
    {
      "cell_type": "code",
      "source": [
        "##processamento"
      ],
      "metadata": {
        "id": "xOOBio6a4bB7"
      },
      "execution_count": 25,
      "outputs": []
    },
    {
      "cell_type": "code",
      "source": [
        "if ano % 4 == 0 and ano % 100 == 0 or ano % 400 == 0:\n",
        "  print(\"O ano é bissexto\")\n",
        "else:\n",
        "  print(\"O ano não é bissexto\")"
      ],
      "metadata": {
        "colab": {
          "base_uri": "https://localhost:8080/"
        },
        "id": "j26oV5cR4d38",
        "outputId": "bcece2e5-512a-4bd6-d73d-10086e29ba89"
      },
      "execution_count": 27,
      "outputs": [
        {
          "output_type": "stream",
          "name": "stdout",
          "text": [
            "O ano é bissexto\n"
          ]
        }
      ]
    },
    {
      "cell_type": "markdown",
      "source": [
        "**Exercício 2**"
      ],
      "metadata": {
        "id": "QPJYu9OE6CM0"
      }
    },
    {
      "cell_type": "code",
      "source": [
        "##entrada"
      ],
      "metadata": {
        "id": "fls_uelW6GVu"
      },
      "execution_count": 28,
      "outputs": []
    },
    {
      "cell_type": "code",
      "source": [
        "idade = int(input(\"Digite a idade: \"))"
      ],
      "metadata": {
        "colab": {
          "base_uri": "https://localhost:8080/"
        },
        "id": "s89baDQh6MFy",
        "outputId": "c0a51a58-9274-42bd-d9b0-405076ff2fbc"
      },
      "execution_count": 32,
      "outputs": [
        {
          "name": "stdout",
          "output_type": "stream",
          "text": [
            "Digite a idade: 21\n"
          ]
        }
      ]
    },
    {
      "cell_type": "code",
      "source": [
        "#processamento"
      ],
      "metadata": {
        "id": "np272FCa6lWh"
      },
      "execution_count": 33,
      "outputs": []
    },
    {
      "cell_type": "code",
      "source": [
        "if idade >= 0 and idade <=12:\n",
        "  print(\"criança\")\n",
        "\n",
        "elif idade >= 13 and idade <= 17:\n",
        "    print(\"adolescente\")\n",
        "\n",
        "elif idade >= 18 and idade <= 59:\n",
        "    print(\"adulto\")"
      ],
      "metadata": {
        "colab": {
          "base_uri": "https://localhost:8080/"
        },
        "id": "7r6pFgth6o6K",
        "outputId": "3abc3120-5248-4334-db25-56e76ff87c07"
      },
      "execution_count": 61,
      "outputs": [
        {
          "output_type": "stream",
          "name": "stdout",
          "text": [
            "adulto\n"
          ]
        }
      ]
    },
    {
      "cell_type": "markdown",
      "source": [
        "**Exercício 3**"
      ],
      "metadata": {
        "id": "gSettKwp6-6O"
      }
    },
    {
      "cell_type": "code",
      "source": [
        "##entrada"
      ],
      "metadata": {
        "id": "03B2Bf_17Ouf"
      },
      "execution_count": 36,
      "outputs": []
    },
    {
      "cell_type": "code",
      "source": [
        "número = int(input(\"Digite o número: \"))"
      ],
      "metadata": {
        "colab": {
          "base_uri": "https://localhost:8080/"
        },
        "id": "OJtqrdsI7CAg",
        "outputId": "5473d764-597f-4658-d083-34f0c8d16bd6"
      },
      "execution_count": 40,
      "outputs": [
        {
          "name": "stdout",
          "output_type": "stream",
          "text": [
            "Digite o número: 60\n"
          ]
        }
      ]
    },
    {
      "cell_type": "code",
      "source": [
        "##processamento"
      ],
      "metadata": {
        "id": "lr_Hak4E7IKq"
      },
      "execution_count": 41,
      "outputs": []
    },
    {
      "cell_type": "code",
      "source": [
        "if número >= 10 and número <= 50:\n",
        "  print(\"O número está dentro do intervalo\")\n",
        "else:\n",
        "  print(\"O número está fora do intervalo\")\n"
      ],
      "metadata": {
        "colab": {
          "base_uri": "https://localhost:8080/"
        },
        "id": "Sa4VaQEU7U_B",
        "outputId": "d9f0edcc-2a3e-4a25-9c90-e68f2fe25232"
      },
      "execution_count": 42,
      "outputs": [
        {
          "output_type": "stream",
          "name": "stdout",
          "text": [
            "O número está fora do intervalo\n"
          ]
        }
      ]
    }
  ]
}