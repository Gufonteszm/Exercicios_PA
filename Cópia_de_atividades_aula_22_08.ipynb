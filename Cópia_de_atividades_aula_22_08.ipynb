{
  "nbformat": 4,
  "nbformat_minor": 0,
  "metadata": {
    "colab": {
      "provenance": [],
      "include_colab_link": true
    },
    "kernelspec": {
      "name": "python3",
      "display_name": "Python 3"
    },
    "language_info": {
      "name": "python"
    }
  },
  "cells": [
    {
      "cell_type": "markdown",
      "metadata": {
        "id": "view-in-github",
        "colab_type": "text"
      },
      "source": [
        "<a href=\"https://colab.research.google.com/github/Gufonteszm/Exercicios_PA/blob/main/C%C3%B3pia_de_atividades_aula_22_08.ipynb\" target=\"_parent\"><img src=\"https://colab.research.google.com/assets/colab-badge.svg\" alt=\"Open In Colab\"/></a>"
      ]
    },
    {
      "cell_type": "markdown",
      "source": [
        "**Exercícios com for, while, listas, strings e dicionários**"
      ],
      "metadata": {
        "id": "5KtSL9tuj-zo"
      }
    },
    {
      "cell_type": "markdown",
      "source": [
        "1) Soma dos números de uma lista\n",
        "\n",
        "Dada a lista numeros = [3, 7, 2, 8, 10], use um for para calcular a soma de todos os elementos."
      ],
      "metadata": {
        "id": "ZZZicFxfkEEg"
      }
    },
    {
      "cell_type": "code",
      "source": [
        "a = [3, 7, 2, 8, 10]\n",
        "soma = 0\n",
        "for i in a:\n",
        "  soma += i\n",
        "print(soma)"
      ],
      "metadata": {
        "colab": {
          "base_uri": "https://localhost:8080/"
        },
        "id": "2cWCE9I2d3P1",
        "outputId": "72a4dc82-3827-4e7c-a8b0-5b8eab918d28"
      },
      "execution_count": null,
      "outputs": [
        {
          "output_type": "stream",
          "name": "stdout",
          "text": [
            "30\n"
          ]
        }
      ]
    },
    {
      "cell_type": "markdown",
      "source": [
        "2) Contagem de vogais em uma string\n",
        "\n",
        "Peça uma palavra ao usuário e use um for para contar quantas vogais (a, e, i, o, u) existem."
      ],
      "metadata": {
        "id": "Xw8gph7LkL6R"
      }
    },
    {
      "cell_type": "code",
      "source": [
        "a = input(\"Digite uma palavra: \")\n",
        "vogais = [\"a\", \"e\", \"i\", \"o\", \"u\"]\n",
        "contador = 0\n",
        "for i in a:\n",
        "  if i in vogais:\n",
        "    contador += 1\n",
        "print(contador)"
      ],
      "metadata": {
        "colab": {
          "base_uri": "https://localhost:8080/"
        },
        "id": "Q5VHScm_eBRK",
        "outputId": "852c0cf2-21c6-4b1c-9f9e-423401f421df"
      },
      "execution_count": null,
      "outputs": [
        {
          "output_type": "stream",
          "name": "stdout",
          "text": [
            "Digite uma palavra: shadow of the colossus\n",
            "7\n"
          ]
        }
      ]
    },
    {
      "cell_type": "markdown",
      "source": [
        "3) Inverter lista usando while\n",
        "\n",
        "Dada a lista nomes = [\"Ana\", \"João\", \"Carlos\", \"Maria\"], use um while para inverter a ordem dos elementos (sem usar reverse() ou slicing)."
      ],
      "metadata": {
        "id": "YfW4Aw8ckZw-"
      }
    },
    {
      "cell_type": "code",
      "source": [
        "a = [\"ana\", \"joão\", \"carlos\", \"maria\"]\n",
        "b = []\n",
        "i = len(a) - 1\n",
        "while i >= 0:\n",
        "  b.append(a[i])\n",
        "  i -= 1\n",
        "print(b)"
      ],
      "metadata": {
        "colab": {
          "base_uri": "https://localhost:8080/"
        },
        "id": "KWFw16FweMcw",
        "outputId": "c97b39b2-ff46-40c1-ba1d-038407366bb8"
      },
      "execution_count": null,
      "outputs": [
        {
          "output_type": "stream",
          "name": "stdout",
          "text": [
            "['maria', 'carlos', 'joão', 'ana']\n"
          ]
        }
      ]
    },
    {
      "cell_type": "markdown",
      "source": [
        "4) Maior número em uma lista\n",
        "\n",
        "Escreva um programa que percorra uma lista de inteiros e encontre o maior valor."
      ],
      "metadata": {
        "id": "cvRuv0PxkkYi"
      }
    },
    {
      "cell_type": "code",
      "source": [
        "a = [\"1\", \"2\", \"3\", \"4\", \"5\", \"6\", \"7\", \"8\", \"9\"]\n",
        "maior = a[0]\n",
        "for i in a:\n",
        "  if i > maior:\n",
        "    maior = i\n",
        "print(maior)"
      ],
      "metadata": {
        "colab": {
          "base_uri": "https://localhost:8080/"
        },
        "id": "JDJF7FiueWGK",
        "outputId": "9a6a769b-2bab-47ff-91a8-60c16c06a924"
      },
      "execution_count": null,
      "outputs": [
        {
          "output_type": "stream",
          "name": "stdout",
          "text": [
            "9\n"
          ]
        }
      ]
    },
    {
      "cell_type": "markdown",
      "source": [
        "5) Remover elementos repetidos de uma lista\n",
        "\n",
        "Usando um for, percorra a lista valores = [1, 2, 2, 3, 4, 4, 5] e crie uma nova lista apenas com elementos únicos."
      ],
      "metadata": {
        "id": "xV6pmOVCkuCm"
      }
    },
    {
      "cell_type": "code",
      "source": [
        "a =  [1, 2, 2, 3, 4, 4, 5]\n",
        "b = []\n",
        "for i in a:\n",
        "  if i not in b:\n",
        "    b.append(i)\n",
        "print(b)"
      ],
      "metadata": {
        "colab": {
          "base_uri": "https://localhost:8080/"
        },
        "id": "XVpLteU-esj0",
        "outputId": "c6c68e94-086c-4fec-91af-8552f633d60d"
      },
      "execution_count": null,
      "outputs": [
        {
          "output_type": "stream",
          "name": "stdout",
          "text": [
            "[1, 2, 3, 4, 5]\n"
          ]
        }
      ]
    },
    {
      "cell_type": "markdown",
      "source": [
        "6) Verificar se palavra é palíndromo\n",
        "\n",
        "Peça uma palavra ao usuário e use while ou for para verificar se ela é igual de frente para trás (ex.: \"arara\")."
      ],
      "metadata": {
        "id": "_bHj-pkzk2TX"
      }
    },
    {
      "cell_type": "code",
      "source": [
        "a = input(\"Digite uma palavra: \")\n",
        "b = a[::-1]\n",
        "if a == b:\n",
        "  print(\"É um palíndromo\")\n",
        "else:\n",
        "  print(\"Não é um palíndromo\")"
      ],
      "metadata": {
        "colab": {
          "base_uri": "https://localhost:8080/"
        },
        "id": "Zeyv67r0e4uy",
        "outputId": "67b5396d-0e5b-4298-ad01-f8433caddade"
      },
      "execution_count": null,
      "outputs": [
        {
          "output_type": "stream",
          "name": "stdout",
          "text": [
            "Digite uma palavra: arara\n",
            "É um palíndromo\n"
          ]
        }
      ]
    },
    {
      "cell_type": "markdown",
      "source": [
        "7 Contagem regressiva com while\n",
        "\n",
        "Peça ao usuário um número e faça uma contagem regressiva até 0."
      ],
      "metadata": {
        "id": "1PeOPJ3ClC0c"
      }
    },
    {
      "cell_type": "code",
      "source": [
        "a = int(input(\"Digite um número: \"))\n",
        "while a >= 0:\n",
        "  print(a)\n",
        "  a -= 1"
      ],
      "metadata": {
        "colab": {
          "base_uri": "https://localhost:8080/"
        },
        "id": "WQVmPsWefCWD",
        "outputId": "6e1a0659-fe1b-4ba0-c6f9-d0c384a4a8dc"
      },
      "execution_count": null,
      "outputs": [
        {
          "output_type": "stream",
          "name": "stdout",
          "text": [
            "Digite um número: 500\n",
            "500\n",
            "499\n",
            "498\n",
            "497\n",
            "496\n",
            "495\n",
            "494\n",
            "493\n",
            "492\n",
            "491\n",
            "490\n",
            "489\n",
            "488\n",
            "487\n",
            "486\n",
            "485\n",
            "484\n",
            "483\n",
            "482\n",
            "481\n",
            "480\n",
            "479\n",
            "478\n",
            "477\n",
            "476\n",
            "475\n",
            "474\n",
            "473\n",
            "472\n",
            "471\n",
            "470\n",
            "469\n",
            "468\n",
            "467\n",
            "466\n",
            "465\n",
            "464\n",
            "463\n",
            "462\n",
            "461\n",
            "460\n",
            "459\n",
            "458\n",
            "457\n",
            "456\n",
            "455\n",
            "454\n",
            "453\n",
            "452\n",
            "451\n",
            "450\n",
            "449\n",
            "448\n",
            "447\n",
            "446\n",
            "445\n",
            "444\n",
            "443\n",
            "442\n",
            "441\n",
            "440\n",
            "439\n",
            "438\n",
            "437\n",
            "436\n",
            "435\n",
            "434\n",
            "433\n",
            "432\n",
            "431\n",
            "430\n",
            "429\n",
            "428\n",
            "427\n",
            "426\n",
            "425\n",
            "424\n",
            "423\n",
            "422\n",
            "421\n",
            "420\n",
            "419\n",
            "418\n",
            "417\n",
            "416\n",
            "415\n",
            "414\n",
            "413\n",
            "412\n",
            "411\n",
            "410\n",
            "409\n",
            "408\n",
            "407\n",
            "406\n",
            "405\n",
            "404\n",
            "403\n",
            "402\n",
            "401\n",
            "400\n",
            "399\n",
            "398\n",
            "397\n",
            "396\n",
            "395\n",
            "394\n",
            "393\n",
            "392\n",
            "391\n",
            "390\n",
            "389\n",
            "388\n",
            "387\n",
            "386\n",
            "385\n",
            "384\n",
            "383\n",
            "382\n",
            "381\n",
            "380\n",
            "379\n",
            "378\n",
            "377\n",
            "376\n",
            "375\n",
            "374\n",
            "373\n",
            "372\n",
            "371\n",
            "370\n",
            "369\n",
            "368\n",
            "367\n",
            "366\n",
            "365\n",
            "364\n",
            "363\n",
            "362\n",
            "361\n",
            "360\n",
            "359\n",
            "358\n",
            "357\n",
            "356\n",
            "355\n",
            "354\n",
            "353\n",
            "352\n",
            "351\n",
            "350\n",
            "349\n",
            "348\n",
            "347\n",
            "346\n",
            "345\n",
            "344\n",
            "343\n",
            "342\n",
            "341\n",
            "340\n",
            "339\n",
            "338\n",
            "337\n",
            "336\n",
            "335\n",
            "334\n",
            "333\n",
            "332\n",
            "331\n",
            "330\n",
            "329\n",
            "328\n",
            "327\n",
            "326\n",
            "325\n",
            "324\n",
            "323\n",
            "322\n",
            "321\n",
            "320\n",
            "319\n",
            "318\n",
            "317\n",
            "316\n",
            "315\n",
            "314\n",
            "313\n",
            "312\n",
            "311\n",
            "310\n",
            "309\n",
            "308\n",
            "307\n",
            "306\n",
            "305\n",
            "304\n",
            "303\n",
            "302\n",
            "301\n",
            "300\n",
            "299\n",
            "298\n",
            "297\n",
            "296\n",
            "295\n",
            "294\n",
            "293\n",
            "292\n",
            "291\n",
            "290\n",
            "289\n",
            "288\n",
            "287\n",
            "286\n",
            "285\n",
            "284\n",
            "283\n",
            "282\n",
            "281\n",
            "280\n",
            "279\n",
            "278\n",
            "277\n",
            "276\n",
            "275\n",
            "274\n",
            "273\n",
            "272\n",
            "271\n",
            "270\n",
            "269\n",
            "268\n",
            "267\n",
            "266\n",
            "265\n",
            "264\n",
            "263\n",
            "262\n",
            "261\n",
            "260\n",
            "259\n",
            "258\n",
            "257\n",
            "256\n",
            "255\n",
            "254\n",
            "253\n",
            "252\n",
            "251\n",
            "250\n",
            "249\n",
            "248\n",
            "247\n",
            "246\n",
            "245\n",
            "244\n",
            "243\n",
            "242\n",
            "241\n",
            "240\n",
            "239\n",
            "238\n",
            "237\n",
            "236\n",
            "235\n",
            "234\n",
            "233\n",
            "232\n",
            "231\n",
            "230\n",
            "229\n",
            "228\n",
            "227\n",
            "226\n",
            "225\n",
            "224\n",
            "223\n",
            "222\n",
            "221\n",
            "220\n",
            "219\n",
            "218\n",
            "217\n",
            "216\n",
            "215\n",
            "214\n",
            "213\n",
            "212\n",
            "211\n",
            "210\n",
            "209\n",
            "208\n",
            "207\n",
            "206\n",
            "205\n",
            "204\n",
            "203\n",
            "202\n",
            "201\n",
            "200\n",
            "199\n",
            "198\n",
            "197\n",
            "196\n",
            "195\n",
            "194\n",
            "193\n",
            "192\n",
            "191\n",
            "190\n",
            "189\n",
            "188\n",
            "187\n",
            "186\n",
            "185\n",
            "184\n",
            "183\n",
            "182\n",
            "181\n",
            "180\n",
            "179\n",
            "178\n",
            "177\n",
            "176\n",
            "175\n",
            "174\n",
            "173\n",
            "172\n",
            "171\n",
            "170\n",
            "169\n",
            "168\n",
            "167\n",
            "166\n",
            "165\n",
            "164\n",
            "163\n",
            "162\n",
            "161\n",
            "160\n",
            "159\n",
            "158\n",
            "157\n",
            "156\n",
            "155\n",
            "154\n",
            "153\n",
            "152\n",
            "151\n",
            "150\n",
            "149\n",
            "148\n",
            "147\n",
            "146\n",
            "145\n",
            "144\n",
            "143\n",
            "142\n",
            "141\n",
            "140\n",
            "139\n",
            "138\n",
            "137\n",
            "136\n",
            "135\n",
            "134\n",
            "133\n",
            "132\n",
            "131\n",
            "130\n",
            "129\n",
            "128\n",
            "127\n",
            "126\n",
            "125\n",
            "124\n",
            "123\n",
            "122\n",
            "121\n",
            "120\n",
            "119\n",
            "118\n",
            "117\n",
            "116\n",
            "115\n",
            "114\n",
            "113\n",
            "112\n",
            "111\n",
            "110\n",
            "109\n",
            "108\n",
            "107\n",
            "106\n",
            "105\n",
            "104\n",
            "103\n",
            "102\n",
            "101\n",
            "100\n",
            "99\n",
            "98\n",
            "97\n",
            "96\n",
            "95\n",
            "94\n",
            "93\n",
            "92\n",
            "91\n",
            "90\n",
            "89\n",
            "88\n",
            "87\n",
            "86\n",
            "85\n",
            "84\n",
            "83\n",
            "82\n",
            "81\n",
            "80\n",
            "79\n",
            "78\n",
            "77\n",
            "76\n",
            "75\n",
            "74\n",
            "73\n",
            "72\n",
            "71\n",
            "70\n",
            "69\n",
            "68\n",
            "67\n",
            "66\n",
            "65\n",
            "64\n",
            "63\n",
            "62\n",
            "61\n",
            "60\n",
            "59\n",
            "58\n",
            "57\n",
            "56\n",
            "55\n",
            "54\n",
            "53\n",
            "52\n",
            "51\n",
            "50\n",
            "49\n",
            "48\n",
            "47\n",
            "46\n",
            "45\n",
            "44\n",
            "43\n",
            "42\n",
            "41\n",
            "40\n",
            "39\n",
            "38\n",
            "37\n",
            "36\n",
            "35\n",
            "34\n",
            "33\n",
            "32\n",
            "31\n",
            "30\n",
            "29\n",
            "28\n",
            "27\n",
            "26\n",
            "25\n",
            "24\n",
            "23\n",
            "22\n",
            "21\n",
            "20\n",
            "19\n",
            "18\n",
            "17\n",
            "16\n",
            "15\n",
            "14\n",
            "13\n",
            "12\n",
            "11\n",
            "10\n",
            "9\n",
            "8\n",
            "7\n",
            "6\n",
            "5\n",
            "4\n",
            "3\n",
            "2\n",
            "1\n",
            "0\n"
          ]
        }
      ]
    },
    {
      "cell_type": "markdown",
      "source": [
        "8) Percorrendo um dicionário de notas\n",
        "\n",
        "Dado o dicionário notas = {\"Ana\": 8, \"Carlos\": 7, \"Maria\": 10}, use um for para exibir cada aluno com sua nota."
      ],
      "metadata": {
        "id": "wKkDTzwelK_f"
      }
    },
    {
      "cell_type": "code",
      "source": [
        "a =  {\"Ana\": 8, \"Carlos\": 7, \"Maria\": 10}\n",
        "for i in a:\n",
        "  print(i, a[i])"
      ],
      "metadata": {
        "colab": {
          "base_uri": "https://localhost:8080/"
        },
        "id": "38Rg7EZffQcf",
        "outputId": "8a0974e6-a0ec-4530-8a6f-13b2bc4367fe"
      },
      "execution_count": null,
      "outputs": [
        {
          "output_type": "stream",
          "name": "stdout",
          "text": [
            "Ana 8\n",
            "Carlos 7\n",
            "Maria 10\n"
          ]
        }
      ]
    },
    {
      "cell_type": "markdown",
      "source": [
        "9)Filtrar números pares de uma lista\n",
        "\n",
        "Dada a lista numeros = [10, 21, 32, 43, 54], use um for para criar uma nova lista contendo apenas os pares."
      ],
      "metadata": {
        "id": "xrXKbCl7lUQg"
      }
    },
    {
      "cell_type": "code",
      "source": [
        "a = [10, 21, 32, 43, 54]\n",
        "b = []\n",
        "for i in a:\n",
        "  if i % 2 == 0:\n",
        "    b.append(i)\n",
        "print(b)"
      ],
      "metadata": {
        "colab": {
          "base_uri": "https://localhost:8080/"
        },
        "id": "11PNsPZRfZ3C",
        "outputId": "df946ff3-d91a-43b7-9d24-18ca50490ca8"
      },
      "execution_count": null,
      "outputs": [
        {
          "output_type": "stream",
          "name": "stdout",
          "text": [
            "[10, 32, 54]\n"
          ]
        }
      ]
    },
    {
      "cell_type": "markdown",
      "source": [
        "10) Contador de palavras em uma frase\n",
        "\n",
        "Peça ao usuário uma frase, divida em palavras (split()) e use um dicionário para contar quantas vezes cada palavra aparece."
      ],
      "metadata": {
        "id": "9pzoi0GxlcO8"
      }
    },
    {
      "cell_type": "code",
      "source": [
        "a = input(\"Digite uma frase: \")\n",
        "b = a.split()\n",
        "c = {}\n",
        "for i in b:\n",
        "  if i in c:\n",
        "    c[i] += 1\n",
        "  else:\n",
        "    c[i] = 1\n",
        "print(c)"
      ],
      "metadata": {
        "colab": {
          "base_uri": "https://localhost:8080/"
        },
        "id": "9qii-S_vfnYh",
        "outputId": "d7eb74b8-2b0d-4318-ef49-7fa2e75dded9"
      },
      "execution_count": null,
      "outputs": [
        {
          "output_type": "stream",
          "name": "stdout",
          "text": [
            "Digite uma frase: quem com ferro fere, com ferro será ferido\n",
            "{'quem': 1, 'com': 2, 'ferro': 2, 'fere,': 1, 'será': 1, 'ferido': 1}\n"
          ]
        }
      ]
    }
  ]
}